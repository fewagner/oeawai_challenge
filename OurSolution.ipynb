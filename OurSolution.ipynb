{
 "cells": [
  {
   "cell_type": "markdown",
   "metadata": {},
   "source": [
    "### Imports"
   ]
  },
  {
   "cell_type": "code",
   "execution_count": null,
   "metadata": {
    "ExecuteTime": {
     "end_time": "2019-08-06T19:02:37.817471Z",
     "start_time": "2019-08-06T19:02:37.806278Z"
    }
   },
   "outputs": [],
   "source": [
    "import torch\n",
    "import torch.nn as nn\n",
    "import torch.nn.functional as F\n",
    "import numpy as np\n",
    "import torchvision.transforms as transforms\n",
    "import torch.utils.data as data\n",
    "import matplotlib.pyplot as plt\n",
    "import IPython.display\n",
    "from IPython.display import Audio\n",
    "import torch.optim as optim\n",
    "from types import SimpleNamespace\n",
    "import scipy as sc\n",
    "\n",
    "from trainDataset import TrainDataset\n",
    "from testDataset import TestDataset"
   ]
  },
  {
   "cell_type": "markdown",
   "metadata": {},
   "source": [
    "### Parameters"
   ]
  },
  {
   "cell_type": "code",
   "execution_count": null,
   "metadata": {
    "ExecuteTime": {
     "end_time": "2019-08-06T19:00:12.106636Z",
     "start_time": "2019-08-06T19:00:12.092306Z"
    }
   },
   "outputs": [],
   "source": [
    "validation_split = 0.2\n",
    "args = SimpleNamespace(batch_size=64, test_batch_size=64, epochs=3,\n",
    "                       lr=0.01, momentum=0.5, seed=1, log_interval=200)\n",
    "\n",
    "device = torch.device(\"cuda\" if torch.cuda.is_available() else \"cpu\")\n",
    "\n",
    "if not torch.cuda.is_available(): # adapt those paths on other machine\n",
    "    print('no cuda')\n",
    "    path_train = './../data/train-small/'\n",
    "    path_test =  './../data/test/kaggle-test/'\n",
    "else:\n",
    "    print('with cuda')\n",
    "    path_train = './../../../../challenge_data/kaggle-train/'\n",
    "    path_test =  './../../../../challenge_data/kaggle-test/'\n",
    "    \n",
    "    \n",
    "sample_rate = 16000"
   ]
  },
  {
   "cell_type": "markdown",
   "metadata": {},
   "source": [
    "### Dataset and -loaders"
   ]
  },
  {
   "cell_type": "code",
   "execution_count": null,
   "metadata": {
    "ExecuteTime": {
     "end_time": "2019-08-06T18:45:45.853675Z",
     "start_time": "2019-08-06T18:45:45.741265Z"
    }
   },
   "outputs": [],
   "source": [
    "# todo add in the classes the features and the fft data\n",
    "\n",
    "toFloat = transforms.Lambda(lambda x: x / np.iinfo(np.int16).max)\n",
    "\n",
    "trainDataset = TrainDataset(path_train, transform=toFloat)\n",
    "print(len(trainDataset))\n",
    "\n",
    "testDataset = TestDataset(path_test, transform=toFloat)\n",
    "print(len(testDataset))"
   ]
  },
  {
   "cell_type": "code",
   "execution_count": null,
   "metadata": {
    "ExecuteTime": {
     "end_time": "2019-08-06T18:51:35.310362Z",
     "start_time": "2019-08-06T18:51:35.305338Z"
    }
   },
   "outputs": [],
   "source": [
    "input_size = len(trainDataset[0][0])\n",
    "print('input size: ',input_size)"
   ]
  },
  {
   "cell_type": "code",
   "execution_count": null,
   "metadata": {
    "ExecuteTime": {
     "end_time": "2019-08-06T19:01:43.099848Z",
     "start_time": "2019-08-06T19:01:43.038239Z"
    }
   },
   "outputs": [],
   "source": [
    "# todo do a validation split here\n",
    "\n",
    "train_loader = data.DataLoader(trainDataset, batch_size=args.batch_size, shuffle=True)\n",
    "for samples, instrument_family_target in trainLoader:\n",
    "        print(samples.shape, instrument_family_target.shape,\n",
    "              instrument_family_target.data)\n",
    "        print(torch.min(samples), torch.max(samples))\n",
    "        print(trainDataset.transformInstrumentsFamilyToString(instrument_family_target.data))\n",
    "        break"
   ]
  },
  {
   "cell_type": "code",
   "execution_count": null,
   "metadata": {
    "ExecuteTime": {
     "end_time": "2019-08-06T19:01:45.629808Z",
     "start_time": "2019-08-06T19:01:45.564598Z"
    }
   },
   "outputs": [],
   "source": [
    "test_loader = data.DataLoader(testDataset, batch_size=args.batch_size, shuffle=False) #!!! shuffle should be false\n",
    "for samples in testloader:\n",
    "        print(samples.shape)\n",
    "        print(torch.min(samples), torch.max(samples))\n",
    "        break"
   ]
  },
  {
   "cell_type": "markdown",
   "metadata": {},
   "source": [
    "### Look at Data"
   ]
  },
  {
   "cell_type": "code",
   "execution_count": null,
   "metadata": {
    "ExecuteTime": {
     "end_time": "2019-08-06T19:01:07.484645Z",
     "start_time": "2019-08-06T19:01:04.464197Z"
    }
   },
   "outputs": [],
   "source": [
    "# how many instruments are there?\n",
    "dummy_count = np.zeros(20)\n",
    "\n",
    "for sample in trainDataset:\n",
    "    dummy_count[sample[1]] += 1\n",
    "    \n",
    "labels_count = []\n",
    "for elem in dummy_count:\n",
    "    if elem != 0:\n",
    "        labels_count.append(elem)\n",
    "        \n",
    "print(labels_count)"
   ]
  },
  {
   "cell_type": "code",
   "execution_count": null,
   "metadata": {
    "ExecuteTime": {
     "end_time": "2019-08-06T18:53:58.703960Z",
     "start_time": "2019-08-06T18:53:58.698183Z"
    }
   },
   "outputs": [],
   "source": [
    "nmbr_classes = len(labels_count)\n",
    "print('nmbr_classes: ', nmbr_classes)"
   ]
  },
  {
   "cell_type": "code",
   "execution_count": null,
   "metadata": {
    "ExecuteTime": {
     "end_time": "2019-08-06T18:54:12.869402Z",
     "start_time": "2019-08-06T18:54:12.530982Z"
    }
   },
   "outputs": [],
   "source": [
    "plt.plot(labels_count, '*')"
   ]
  },
  {
   "cell_type": "code",
   "execution_count": null,
   "metadata": {
    "ExecuteTime": {
     "end_time": "2019-08-06T18:54:42.206186Z",
     "start_time": "2019-08-06T18:54:39.213834Z"
    }
   },
   "outputs": [],
   "source": [
    "# plot one of each\n",
    "\n",
    "done = np.zeros(nmbr_classes)\n",
    "examples = []\n",
    "\n",
    "for sample in trainDataset:\n",
    "    if done[sample[1]] == 0:\n",
    "        examples.append(sample)\n",
    "        done[sample[1]] = 1"
   ]
  },
  {
   "cell_type": "code",
   "execution_count": null,
   "metadata": {
    "ExecuteTime": {
     "end_time": "2019-08-06T18:55:56.319271Z",
     "start_time": "2019-08-06T18:55:54.947414Z"
    }
   },
   "outputs": [],
   "source": [
    "plt.subplot(431)\n",
    "plt.plot(examples[0][0])\n",
    "\n",
    "plt.subplot(432)\n",
    "plt.plot(examples[1][0])\n",
    "\n",
    "plt.subplot(433)\n",
    "plt.plot(examples[2][0])\n",
    "\n",
    "plt.subplot(434)\n",
    "plt.plot(examples[3][0])\n",
    "\n",
    "plt.subplot(435)\n",
    "plt.plot(examples[4][0])\n",
    "\n",
    "plt.subplot(436)\n",
    "plt.plot(examples[5][0])\n",
    "\n",
    "plt.subplot(437)\n",
    "plt.plot(examples[6][0])\n",
    "\n",
    "plt.subplot(438)\n",
    "plt.plot(examples[7][0])\n",
    "\n",
    "plt.subplot(439)\n",
    "plt.plot(examples[8][0])\n",
    "\n",
    "plt.subplot(4,3,10)\n",
    "plt.plot(examples[9][0])\n",
    "\n",
    "plt.show()"
   ]
  },
  {
   "cell_type": "code",
   "execution_count": null,
   "metadata": {
    "ExecuteTime": {
     "end_time": "2019-08-06T18:57:15.206392Z",
     "start_time": "2019-08-06T18:57:15.199308Z"
    }
   },
   "outputs": [],
   "source": [
    "### todo plot spectrogram"
   ]
  },
  {
   "cell_type": "code",
   "execution_count": null,
   "metadata": {
    "ExecuteTime": {
     "end_time": "2019-08-06T18:57:20.168001Z",
     "start_time": "2019-08-06T18:57:19.856815Z"
    }
   },
   "outputs": [],
   "source": [
    "for sample in examples:\n",
    "    display(Audio(sample[0], rate=sample_rate))"
   ]
  },
  {
   "cell_type": "markdown",
   "metadata": {},
   "source": [
    "### CNN Model"
   ]
  },
  {
   "cell_type": "code",
   "execution_count": null,
   "metadata": {
    "ExecuteTime": {
     "end_time": "2019-08-06T19:02:26.678825Z",
     "start_time": "2019-08-06T19:02:26.671921Z"
    }
   },
   "outputs": [],
   "source": [
    "def logMagStft(numpyArray, sample_rate, n_fft):\n",
    "    f, t, sx = sc.signal.stft(numpyArray, fs=sample_rate, nperseg=n_fft, noverlap=n_fft//2) \n",
    "    return np.log(np.abs(sx)+np.e**-10)"
   ]
  },
  {
   "cell_type": "code",
   "execution_count": null,
   "metadata": {
    "ExecuteTime": {
     "end_time": "2019-08-06T19:02:27.608328Z",
     "start_time": "2019-08-06T19:02:27.598044Z"
    }
   },
   "outputs": [],
   "source": [
    "# NN architecture (three conv and two fully connected layers)\n",
    "class Net(nn.Module):\n",
    "    def __init__(self):\n",
    "        super(Net, self).__init__()\n",
    "        self.first_conv = nn.Conv2d(1, 20, 5, 1)\n",
    "        self.second_conv = nn.Conv2d(20, 50, 5, 2)\n",
    "        self.third_conv = nn.Conv2d(50, 50, 5, 2)\n",
    "        self.fc1 = nn.Linear(50*6*6, 500)\n",
    "        self.fc2 = nn.Linear(500, 10)\n",
    "\n",
    "    def forward(self, x):\n",
    "        n_fft = 510\n",
    "    \n",
    "        spectrograms = np.zeros((len(x), n_fft//2+1, int(2*64000/n_fft)+2))\n",
    "        for index, audio in enumerate(x.cpu().numpy()):\n",
    "            spectrograms[index] = logMagStft(audio, 16000, n_fft)\n",
    "        \n",
    "        x = torch.from_numpy(spectrograms[:, np.newaxis, :, :]).to(device).float()\n",
    "        \n",
    "        # x.size is (batch_size, 1, 256, 252)\n",
    "        x = F.relu(self.first_conv(x))\n",
    "        x = F.max_pool2d(x, 2, 2)\n",
    "        x = F.relu(self.second_conv(x))\n",
    "        x = F.max_pool2d(x, 2, 2)\n",
    "        x = F.relu(self.third_conv(x))\n",
    "        x = F.max_pool2d(x, 2, 2)\n",
    "        # x.size is (batch_size, 50, 6, 6)\n",
    "        x = x.view(-1, 6*6*50)\n",
    "\n",
    "        x = F.relu(self.fc1(x))\n",
    "        x = self.fc2(x)\n",
    "        return F.log_softmax(x, dim=1)"
   ]
  },
  {
   "cell_type": "markdown",
   "metadata": {},
   "source": [
    "### Train Funktion"
   ]
  },
  {
   "cell_type": "code",
   "execution_count": null,
   "metadata": {
    "ExecuteTime": {
     "end_time": "2019-08-06T19:02:29.984604Z",
     "start_time": "2019-08-06T19:02:29.974842Z"
    }
   },
   "outputs": [],
   "source": [
    "# This function trains the model for one epoch\n",
    "def train(args, model, device, train_loader, optimizer, epoch):\n",
    "    model.train()\n",
    "    for batch_idx, (data, target) in enumerate(train_loader):\n",
    "        data, target = data.to(device), target.to(device)\n",
    "        \n",
    "        optimizer.zero_grad()\n",
    "        output = model(data)\n",
    "        loss = F.nll_loss(output, target)\n",
    "        loss.backward()\n",
    "        optimizer.step()\n",
    "        if batch_idx % args.log_interval == 0:\n",
    "            print('Train Epoch: {} [{}/{} ({:.0f}%)]\\tLoss: {:.6f}'.format(\n",
    "                epoch, batch_idx * len(data), len(train_loader.dataset),\n",
    "                100. * batch_idx / len(train_loader), loss.item()))"
   ]
  },
  {
   "cell_type": "markdown",
   "metadata": {},
   "source": [
    "### Test Funktion"
   ]
  },
  {
   "cell_type": "code",
   "execution_count": null,
   "metadata": {
    "ExecuteTime": {
     "end_time": "2019-08-06T19:02:30.958205Z",
     "start_time": "2019-08-06T19:02:30.950562Z"
    }
   },
   "outputs": [],
   "source": [
    "# This function evaluates the model on the test data\n",
    "def test(args, model, device, test_loader, epoch):\n",
    "    model.eval()\n",
    "    test_loss = 0\n",
    "    correct = 0\n",
    "    with torch.no_grad():\n",
    "        familyPredictions = np.zeros(len(test_loader.dataset), dtype=np.int)\n",
    "        for index, samples in enumerate(test_loader):\n",
    "            samples = samples.to(device)\n",
    "            familyPredictions[index*len(samples):(index+1)*len(samples)] = model(samples).max(1)[1].cpu() # get the index of the max log-probability\n",
    "    \n",
    "    familyPredictionStrings = trainDataset.transformInstrumentsFamilyToString(familyPredictions.astype(int))\n",
    "\n",
    "    with open('NN-submission-' +str(epoch)+'.csv', 'w', newline='') as writeFile:\n",
    "        fieldnames = ['Id', 'Expected']\n",
    "        writer = csv.DictWriter(writeFile, fieldnames=fieldnames, delimiter=',',\n",
    "                                quotechar='|', quoting=csv.QUOTE_MINIMAL)\n",
    "        writer.writeheader()\n",
    "        for index in range(len(testDataset)):\n",
    "            writer.writerow({'Id': index, 'Expected': familyPredictionStrings[index]})\n",
    "    print('saved predictions')"
   ]
  },
  {
   "cell_type": "markdown",
   "metadata": {},
   "source": [
    "### Main"
   ]
  },
  {
   "cell_type": "code",
   "execution_count": null,
   "metadata": {
    "ExecuteTime": {
     "end_time": "2019-08-06T19:02:56.758948Z",
     "start_time": "2019-08-06T19:02:42.590610Z"
    }
   },
   "outputs": [],
   "source": [
    "# Main\n",
    "model = Net().to(device)\n",
    "optimizer = optim.SGD(model.parameters(), lr=args.lr, \n",
    "                      momentum=args.momentum)\n",
    "\n",
    "for epoch in range(1, args.epochs + 1):\n",
    "    train(args, model, device, train_loader, optimizer, epoch)\n",
    "    test(args, model, device, test_loader, epoch)\n"
   ]
  },
  {
   "cell_type": "code",
   "execution_count": null,
   "metadata": {},
   "outputs": [],
   "source": []
  }
 ],
 "metadata": {
  "kernelspec": {
   "display_name": "Python 3",
   "language": "python",
   "name": "python3"
  },
  "language_info": {
   "codemirror_mode": {
    "name": "ipython",
    "version": 3
   },
   "file_extension": ".py",
   "mimetype": "text/x-python",
   "name": "python",
   "nbconvert_exporter": "python",
   "pygments_lexer": "ipython3",
   "version": "3.6.7"
  },
  "toc": {
   "base_numbering": 1,
   "nav_menu": {},
   "number_sections": true,
   "sideBar": true,
   "skip_h1_title": false,
   "title_cell": "Table of Contents",
   "title_sidebar": "Contents",
   "toc_cell": false,
   "toc_position": {},
   "toc_section_display": true,
   "toc_window_display": false
  },
  "varInspector": {
   "cols": {
    "lenName": 16,
    "lenType": 16,
    "lenVar": 40
   },
   "kernels_config": {
    "python": {
     "delete_cmd_postfix": "",
     "delete_cmd_prefix": "del ",
     "library": "var_list.py",
     "varRefreshCmd": "print(var_dic_list())"
    },
    "r": {
     "delete_cmd_postfix": ") ",
     "delete_cmd_prefix": "rm(",
     "library": "var_list.r",
     "varRefreshCmd": "cat(var_dic_list()) "
    }
   },
   "types_to_exclude": [
    "module",
    "function",
    "builtin_function_or_method",
    "instance",
    "_Feature"
   ],
   "window_display": false
  }
 },
 "nbformat": 4,
 "nbformat_minor": 2
}
