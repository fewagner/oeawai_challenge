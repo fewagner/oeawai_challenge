{
 "cells": [
  {
   "cell_type": "markdown",
   "metadata": {},
   "source": [
    "### Imports"
   ]
  },
  {
   "cell_type": "code",
   "execution_count": 1,
   "metadata": {
    "ExecuteTime": {
     "end_time": "2019-08-08T14:39:42.909110Z",
     "start_time": "2019-08-08T14:39:42.349649Z"
    }
   },
   "outputs": [],
   "source": [
    "import torch\n",
    "import torch.nn as nn\n",
    "import torch.nn.functional as F\n",
    "import numpy as np\n",
    "import torchvision.transforms as transforms\n",
    "import torch.utils.data as data\n",
    "import matplotlib.pyplot as plt\n",
    "import IPython.display\n",
    "from IPython.display import Audio\n",
    "import torch.optim as optim\n",
    "from types import SimpleNamespace\n",
    "import scipy.signal as sc\n",
    "import time\n",
    "from sklearn.metrics import f1_score\n",
    "\n",
    "from trainDataset import TrainDataset\n",
    "from testDataset import TestDataset\n",
    "#from trainDatasetNew import TrainDatasetNew\n",
    "#from testDatasetNew import TestDatasetNew\n",
    "from validation_split import get_dataloaders\n",
    "from math_utils import logMagStft, ffts\n",
    "from SpectrogramCNN import SpectrogramCNN\n",
    "from train_utils import train, test\n",
    "from evaluation_utils import get_mean_F1"
   ]
  },
  {
   "cell_type": "markdown",
   "metadata": {},
   "source": [
    "### Parameters"
   ]
  },
  {
   "cell_type": "code",
   "execution_count": 11,
   "metadata": {
    "ExecuteTime": {
     "end_time": "2019-08-08T14:44:33.155839Z",
     "start_time": "2019-08-08T14:44:33.143852Z"
    }
   },
   "outputs": [
    {
     "name": "stdout",
     "output_type": "stream",
     "text": [
      "with cuda\n"
     ]
    }
   ],
   "source": [
    "validation_split = .2\n",
    "do_plots = False\n",
    "load_model = True\n",
    "args = SimpleNamespace(batch_size=64, test_batch_size=64, epochs=1,\n",
    "                       lr=0.01, momentum=0.5, seed=1, log_interval=200, \n",
    "                      net = SpectrogramCNN)\n",
    "\n",
    "device = torch.device(\"cuda\" if torch.cuda.is_available() else \"cpu\")\n",
    "\n",
    "if not torch.cuda.is_available(): # adapt those paths on other machine\n",
    "    print('no cuda')\n",
    "    path_train = './../data/train-small/'\n",
    "    path_test =  './../data/test/kaggle-test/'\n",
    "else:\n",
    "    print('with cuda')\n",
    "    path_train = './../data/kaggle-train/'\n",
    "    path_test =  './../data/kaggle-test/'\n",
    "    \n",
    "path_model = 'models/model.pt'\n",
    "path_submission = 'submissions/'\n",
    "    \n",
    "sample_rate = 16000\n",
    "nmbr_classes = 10"
   ]
  },
  {
   "cell_type": "markdown",
   "metadata": {},
   "source": [
    "### Original Dataset"
   ]
  },
  {
   "cell_type": "code",
   "execution_count": 19,
   "metadata": {
    "ExecuteTime": {
     "end_time": "2019-08-08T15:24:51.061118Z",
     "start_time": "2019-08-08T15:24:49.824040Z"
    }
   },
   "outputs": [
    {
     "name": "stdout",
     "output_type": "stream",
     "text": [
      "269776\n",
      "4096\n"
     ]
    }
   ],
   "source": [
    "# todo add in the classes the features and the fft data\n",
    "\n",
    "toFloat = transforms.Lambda(lambda x: x / np.iinfo(np.int16).max)\n",
    "\n",
    "trainDataset = TrainDataset(path_train, transform=toFloat)\n",
    "print(len(trainDataset))\n",
    "\n",
    "testDataset = TestDataset(path_test, transform=toFloat)\n",
    "print(len(testDataset))"
   ]
  },
  {
   "cell_type": "code",
   "execution_count": 20,
   "metadata": {
    "ExecuteTime": {
     "end_time": "2019-08-08T15:24:52.906324Z",
     "start_time": "2019-08-08T15:24:52.899508Z"
    }
   },
   "outputs": [
    {
     "name": "stdout",
     "output_type": "stream",
     "text": [
      "input size:  64000\n"
     ]
    }
   ],
   "source": [
    "input_size = len(trainDataset[0][0])\n",
    "print('input size: ',input_size)"
   ]
  },
  {
   "cell_type": "markdown",
   "metadata": {
    "heading_collapsed": true
   },
   "source": [
    "### Look at Original Data"
   ]
  },
  {
   "cell_type": "code",
   "execution_count": null,
   "metadata": {
    "ExecuteTime": {
     "end_time": "2019-08-08T12:47:59.870466Z",
     "start_time": "2019-08-08T12:47:59.867431Z"
    },
    "hidden": true
   },
   "outputs": [],
   "source": [
    "if do_plots:\n",
    "    # how many instruments are there?\n",
    "    dummy_count = np.zeros(20)\n",
    "\n",
    "    for sample in trainDataset:\n",
    "        dummy_count[sample[1]] += 1\n",
    "\n",
    "    labels_count = []\n",
    "    for elem in dummy_count:\n",
    "        if elem != 0:\n",
    "            labels_count.append(elem)\n",
    "\n",
    "    print(labels_count)"
   ]
  },
  {
   "cell_type": "code",
   "execution_count": null,
   "metadata": {
    "ExecuteTime": {
     "end_time": "2019-08-08T12:47:59.876725Z",
     "start_time": "2019-08-08T12:47:59.872627Z"
    },
    "hidden": true
   },
   "outputs": [],
   "source": [
    "if do_plots:\n",
    "    nmbr_classes = len(labels_count)\n",
    "    print('nmbr_classes: ', nmbr_classes)"
   ]
  },
  {
   "cell_type": "code",
   "execution_count": null,
   "metadata": {
    "ExecuteTime": {
     "end_time": "2019-08-08T12:47:59.886623Z",
     "start_time": "2019-08-08T12:47:59.879185Z"
    },
    "hidden": true
   },
   "outputs": [],
   "source": [
    "if do_plots:\n",
    "    plt.plot(labels_count, '*')"
   ]
  },
  {
   "cell_type": "code",
   "execution_count": null,
   "metadata": {
    "ExecuteTime": {
     "end_time": "2019-08-08T12:47:59.892328Z",
     "start_time": "2019-08-08T12:47:59.889067Z"
    },
    "hidden": true
   },
   "outputs": [],
   "source": [
    "if do_plots:\n",
    "    # plot one of each\n",
    "\n",
    "    done = np.zeros(nmbr_classes)\n",
    "    examples = []\n",
    "\n",
    "    for sample in trainDataset:\n",
    "        if done[sample[1]] == 0:\n",
    "            examples.append(sample)\n",
    "            done[sample[1]] = 1"
   ]
  },
  {
   "cell_type": "code",
   "execution_count": null,
   "metadata": {
    "ExecuteTime": {
     "end_time": "2019-08-08T12:47:59.899570Z",
     "start_time": "2019-08-08T12:47:59.894091Z"
    },
    "hidden": true
   },
   "outputs": [],
   "source": [
    "if do_plots:\n",
    "    plt.subplot(431)\n",
    "    plt.plot(examples[0][0])\n",
    "\n",
    "    plt.subplot(432)\n",
    "    plt.plot(examples[1][0])\n",
    "\n",
    "    plt.subplot(433)\n",
    "    plt.plot(examples[2][0])\n",
    "\n",
    "    plt.subplot(434)\n",
    "    plt.plot(examples[3][0])\n",
    "\n",
    "    plt.subplot(435)\n",
    "    plt.plot(examples[4][0])\n",
    "\n",
    "    plt.subplot(436)\n",
    "    plt.plot(examples[5][0])\n",
    "\n",
    "    plt.subplot(437)\n",
    "    plt.plot(examples[6][0])\n",
    "\n",
    "    plt.subplot(438)\n",
    "    plt.plot(examples[7][0])\n",
    "\n",
    "    plt.subplot(439)\n",
    "    plt.plot(examples[8][0])\n",
    "\n",
    "    plt.subplot(4,3,10)\n",
    "    plt.plot(examples[9][0])\n",
    "\n",
    "    plt.show()"
   ]
  },
  {
   "cell_type": "code",
   "execution_count": null,
   "metadata": {
    "ExecuteTime": {
     "end_time": "2019-08-08T12:47:59.907629Z",
     "start_time": "2019-08-08T12:47:59.900872Z"
    },
    "hidden": true
   },
   "outputs": [],
   "source": [
    "if do_plots:\n",
    "\n",
    "    # plot one of each in FFT\n",
    "\n",
    "    plt.subplot(431)\n",
    "    plt.plot(ffts(examples[0][0]))\n",
    "\n",
    "    plt.subplot(432)\n",
    "    plt.plot(ffts(examples[1][0]))\n",
    "\n",
    "    plt.subplot(433)\n",
    "    plt.plot(ffts(examples[2][0]))\n",
    "\n",
    "    plt.subplot(434)\n",
    "    plt.plot(ffts(examples[3][0]))\n",
    "\n",
    "    plt.subplot(435)\n",
    "    plt.plot(ffts(examples[4][0]))\n",
    "\n",
    "    plt.subplot(436)\n",
    "    plt.plot(ffts(examples[5][0]))\n",
    "\n",
    "    plt.subplot(437)\n",
    "    plt.plot(ffts(examples[6][0]))\n",
    "\n",
    "    plt.subplot(438)\n",
    "    plt.plot(ffts(examples[7][0]))\n",
    "\n",
    "    plt.subplot(439)\n",
    "    plt.plot(ffts(examples[8][0]))\n",
    "\n",
    "    plt.subplot(4,3,10)\n",
    "    plt.plot(ffts(examples[9][0]))\n",
    "\n",
    "    plt.show()"
   ]
  },
  {
   "cell_type": "code",
   "execution_count": null,
   "metadata": {
    "ExecuteTime": {
     "end_time": "2019-08-08T12:47:59.913617Z",
     "start_time": "2019-08-08T12:47:59.910121Z"
    },
    "hidden": true
   },
   "outputs": [],
   "source": [
    "if do_plots:\n",
    "\n",
    "    for sample in examples:\n",
    "        display(Audio(sample[0], rate=sample_rate))"
   ]
  },
  {
   "cell_type": "markdown",
   "metadata": {},
   "source": [
    "### Dataloaders"
   ]
  },
  {
   "cell_type": "code",
   "execution_count": 23,
   "metadata": {
    "ExecuteTime": {
     "end_time": "2019-08-08T15:25:32.798350Z",
     "start_time": "2019-08-08T15:25:32.641416Z"
    }
   },
   "outputs": [
    {
     "name": "stdout",
     "output_type": "stream",
     "text": [
      "torch.Size([64, 64000]) torch.Size([64]) tensor([0, 4, 3, 7, 3, 0, 6, 6, 0, 6, 2, 6, 4, 0, 4, 5, 0, 5, 4, 7, 8, 4, 7, 4,\n",
      "        8, 1, 7, 7, 4, 0, 4, 7, 0, 6, 9, 1, 9, 4, 4, 3, 0, 4, 0, 0, 4, 0, 2, 6,\n",
      "        8, 0, 6, 3, 1, 8, 1, 0, 7, 7, 4, 6, 0, 6, 6, 6])\n",
      "tensor(-0.9560, dtype=torch.float64) tensor(0.9562, dtype=torch.float64)\n",
      "['bass' 'keyboard' 'guitar' 'reed' 'guitar' 'bass' 'organ' 'organ' 'bass'\n",
      " 'organ' 'flute' 'organ' 'keyboard' 'bass' 'keyboard' 'mallet' 'bass'\n",
      " 'mallet' 'keyboard' 'reed' 'string' 'keyboard' 'reed' 'keyboard' 'string'\n",
      " 'brass' 'reed' 'reed' 'keyboard' 'bass' 'keyboard' 'reed' 'bass' 'organ'\n",
      " 'vocal' 'brass' 'vocal' 'keyboard' 'keyboard' 'guitar' 'bass' 'keyboard'\n",
      " 'bass' 'bass' 'keyboard' 'bass' 'flute' 'organ' 'string' 'bass' 'organ'\n",
      " 'guitar' 'brass' 'string' 'brass' 'bass' 'reed' 'reed' 'keyboard' 'organ'\n",
      " 'bass' 'organ' 'organ' 'organ']\n",
      "torch.Size([64, 64000]) torch.Size([64]) tensor([0, 7, 0, 8, 7, 7, 4, 6, 0, 4, 5, 4, 5, 4, 0, 6, 6, 1, 5, 4, 9, 6, 5, 4,\n",
      "        3, 4, 8, 3, 3, 6, 0, 6, 4, 0, 0, 5, 5, 2, 8, 6, 5, 3, 6, 5, 6, 4, 6, 7,\n",
      "        5, 7, 7, 0, 5, 5, 8, 4, 0, 8, 5, 4, 2, 4, 6, 0])\n",
      "tensor(-0.9835, dtype=torch.float64) tensor(0.9824, dtype=torch.float64)\n",
      "['bass' 'reed' 'bass' 'string' 'reed' 'reed' 'keyboard' 'organ' 'bass'\n",
      " 'keyboard' 'mallet' 'keyboard' 'mallet' 'keyboard' 'bass' 'organ' 'organ'\n",
      " 'brass' 'mallet' 'keyboard' 'vocal' 'organ' 'mallet' 'keyboard' 'guitar'\n",
      " 'keyboard' 'string' 'guitar' 'guitar' 'organ' 'bass' 'organ' 'keyboard'\n",
      " 'bass' 'bass' 'mallet' 'mallet' 'flute' 'string' 'organ' 'mallet'\n",
      " 'guitar' 'organ' 'mallet' 'organ' 'keyboard' 'organ' 'reed' 'mallet'\n",
      " 'reed' 'reed' 'bass' 'mallet' 'mallet' 'string' 'keyboard' 'bass'\n",
      " 'string' 'mallet' 'keyboard' 'flute' 'keyboard' 'organ' 'bass']\n"
     ]
    }
   ],
   "source": [
    "# validation split is done here\n",
    "\n",
    "train_loader, validation_loader = get_dataloaders(trainDataset, \n",
    "                                                  batch_size = args.batch_size, \n",
    "                                                  validation_split = validation_split, \n",
    "                                                  shuffle_dataset = True, \n",
    "                                                  random_seed = None)\n",
    "\n",
    "for samples, instrument_family_target in train_loader:\n",
    "        print(samples.shape, instrument_family_target.shape,\n",
    "              instrument_family_target.data)\n",
    "        print(torch.min(samples), torch.max(samples))\n",
    "        print(trainDataset.transformInstrumentsFamilyToString(instrument_family_target.data))\n",
    "        break\n",
    "        \n",
    "for samples, instrument_family_target in validation_loader:\n",
    "        print(samples.shape, instrument_family_target.shape,\n",
    "              instrument_family_target.data)\n",
    "        print(torch.min(samples), torch.max(samples))\n",
    "        print(trainDataset.transformInstrumentsFamilyToString(instrument_family_target.data))\n",
    "        break"
   ]
  },
  {
   "cell_type": "code",
   "execution_count": 24,
   "metadata": {
    "ExecuteTime": {
     "end_time": "2019-08-08T15:25:33.710173Z",
     "start_time": "2019-08-08T15:25:33.673447Z"
    }
   },
   "outputs": [
    {
     "name": "stdout",
     "output_type": "stream",
     "text": [
      "torch.Size([64, 64000])\n",
      "tensor(-0.9723, dtype=torch.float64) tensor(0.9834, dtype=torch.float64)\n"
     ]
    }
   ],
   "source": [
    "test_loader = data.DataLoader(testDataset, batch_size=args.batch_size, shuffle=False) #!!! shuffle should be false\n",
    "for samples in test_loader:\n",
    "        print(samples.shape)\n",
    "        print(torch.min(samples), torch.max(samples))\n",
    "        break"
   ]
  },
  {
   "cell_type": "markdown",
   "metadata": {},
   "source": [
    "### Main"
   ]
  },
  {
   "cell_type": "code",
   "execution_count": null,
   "metadata": {},
   "outputs": [],
   "source": [
    "model = args.net(device).to(device)"
   ]
  },
  {
   "cell_type": "code",
   "execution_count": 10,
   "metadata": {
    "ExecuteTime": {
     "end_time": "2019-08-08T14:43:54.027990Z",
     "start_time": "2019-08-08T14:43:54.020827Z"
    }
   },
   "outputs": [],
   "source": [
    "# Main\n",
    "optimizer = optim.SGD(model.parameters(), lr=args.lr, \n",
    "                      momentum=args.momentum)\n",
    "\n",
    "info = {'lowest F1' : 100,\n",
    "        'saved epoch' : None}"
   ]
  },
  {
   "cell_type": "code",
   "execution_count": 12,
   "metadata": {
    "ExecuteTime": {
     "end_time": "2019-08-08T14:59:03.474233Z",
     "start_time": "2019-08-08T14:45:00.609549Z"
    }
   },
   "outputs": [
    {
     "name": "stdout",
     "output_type": "stream",
     "text": [
      "Train Epoch: 4 [0/269776 (0%)]\tLoss: 0.789028\tF1: 0.7344\tRuntime: 0.3\n",
      "Train Epoch: 4 [12800/269776 (6%)]\tLoss: 0.880328\tF1: 0.6406\tRuntime: 38.3\n",
      "Train Epoch: 4 [25600/269776 (12%)]\tLoss: 0.569886\tF1: 0.8125\tRuntime: 76.2\n",
      "Train Epoch: 4 [38400/269776 (18%)]\tLoss: 0.457198\tF1: 0.8594\tRuntime: 114.3\n",
      "Train Epoch: 4 [51200/269776 (24%)]\tLoss: 0.668656\tF1: 0.7500\tRuntime: 152.5\n",
      "Train Epoch: 4 [64000/269776 (30%)]\tLoss: 0.702870\tF1: 0.8438\tRuntime: 190.7\n",
      "Train Epoch: 4 [76800/269776 (36%)]\tLoss: 0.782761\tF1: 0.7500\tRuntime: 228.7\n",
      "Train Epoch: 4 [89600/269776 (42%)]\tLoss: 0.399654\tF1: 0.8125\tRuntime: 267.0\n",
      "Train Epoch: 4 [102400/269776 (47%)]\tLoss: 0.660254\tF1: 0.7812\tRuntime: 305.9\n",
      "Train Epoch: 4 [115200/269776 (53%)]\tLoss: 0.408472\tF1: 0.8438\tRuntime: 344.6\n",
      "Train Epoch: 4 [128000/269776 (59%)]\tLoss: 0.364786\tF1: 0.8906\tRuntime: 383.3\n",
      "Train Epoch: 4 [140800/269776 (65%)]\tLoss: 0.406795\tF1: 0.9062\tRuntime: 422.5\n",
      "Train Epoch: 4 [153600/269776 (71%)]\tLoss: 0.432719\tF1: 0.8125\tRuntime: 461.4\n",
      "Train Epoch: 4 [166400/269776 (77%)]\tLoss: 0.529424\tF1: 0.8281\tRuntime: 500.5\n",
      "Train Epoch: 4 [179200/269776 (83%)]\tLoss: 0.570332\tF1: 0.8438\tRuntime: 539.8\n",
      "Train Epoch: 4 [192000/269776 (89%)]\tLoss: 0.351837\tF1: 0.8594\tRuntime: 579.1\n",
      "Train Epoch: 4 [204800/269776 (95%)]\tLoss: 0.275003\tF1: 0.8750\tRuntime: 618.6\n",
      "after epoch 4 got f1 score of 0.7823792950237007\n",
      "saved predictions\n",
      "currently best model --> saved\n"
     ]
    }
   ],
   "source": [
    "for epoch in range(1+3, args.epochs + 1 +3):\n",
    "    train(args, model, device, train_loader, optimizer, epoch, start_time = time.time())\n",
    "    f1 = get_mean_F1(model, validation_loader)\n",
    "    print('after epoch {} got f1 score of {}'.format(epoch , f1))\n",
    "    if f1 < info['lowest F1']:\n",
    "        info['lowest F1'] = f1\n",
    "        info['saved epoch'] = epoch \n",
    "        test(args, model, device, test_loader, epoch, trainDataset, testDataset, path_submission)\n",
    "        torch.save(model, path_model)\n",
    "        print('currently best model --> saved')"
   ]
  },
  {
   "cell_type": "markdown",
   "metadata": {},
   "source": [
    "### Load Model"
   ]
  },
  {
   "cell_type": "code",
   "execution_count": 7,
   "metadata": {
    "ExecuteTime": {
     "end_time": "2019-08-08T14:40:15.668758Z",
     "start_time": "2019-08-08T14:40:13.956532Z"
    }
   },
   "outputs": [],
   "source": [
    "if load_model:\n",
    "    model = torch.load(path_model)"
   ]
  },
  {
   "cell_type": "code",
   "execution_count": 17,
   "metadata": {
    "ExecuteTime": {
     "end_time": "2019-08-08T15:18:33.156239Z",
     "start_time": "2019-08-08T15:15:38.510679Z"
    }
   },
   "outputs": [
    {
     "data": {
      "text/plain": [
       "0.7869828692733053"
      ]
     },
     "execution_count": 17,
     "metadata": {},
     "output_type": "execute_result"
    }
   ],
   "source": [
    "get_mean_F1(model, validation_loader)"
   ]
  },
  {
   "cell_type": "code",
   "execution_count": 25,
   "metadata": {
    "ExecuteTime": {
     "end_time": "2019-08-08T15:26:02.974781Z",
     "start_time": "2019-08-08T15:25:51.535930Z"
    }
   },
   "outputs": [
    {
     "name": "stdout",
     "output_type": "stream",
     "text": [
      "saved predictions\n"
     ]
    }
   ],
   "source": [
    "epoch = 4\n",
    "test(args, model, device, test_loader, epoch, trainDataset, testDataset, path_submission)"
   ]
  },
  {
   "cell_type": "code",
   "execution_count": null,
   "metadata": {},
   "outputs": [],
   "source": []
  }
 ],
 "metadata": {
  "kernelspec": {
   "display_name": "Python 3",
   "language": "python",
   "name": "python3"
  },
  "language_info": {
   "codemirror_mode": {
    "name": "ipython",
    "version": 3
   },
   "file_extension": ".py",
   "mimetype": "text/x-python",
   "name": "python",
   "nbconvert_exporter": "python",
   "pygments_lexer": "ipython3",
   "version": "3.7.3"
  },
  "toc": {
   "base_numbering": 1,
   "nav_menu": {},
   "number_sections": true,
   "sideBar": true,
   "skip_h1_title": false,
   "title_cell": "Table of Contents",
   "title_sidebar": "Contents",
   "toc_cell": false,
   "toc_position": {},
   "toc_section_display": true,
   "toc_window_display": false
  },
  "varInspector": {
   "cols": {
    "lenName": 16,
    "lenType": 16,
    "lenVar": 40
   },
   "kernels_config": {
    "python": {
     "delete_cmd_postfix": "",
     "delete_cmd_prefix": "del ",
     "library": "var_list.py",
     "varRefreshCmd": "print(var_dic_list())"
    },
    "r": {
     "delete_cmd_postfix": ") ",
     "delete_cmd_prefix": "rm(",
     "library": "var_list.r",
     "varRefreshCmd": "cat(var_dic_list()) "
    }
   },
   "types_to_exclude": [
    "module",
    "function",
    "builtin_function_or_method",
    "instance",
    "_Feature"
   ],
   "window_display": false
  }
 },
 "nbformat": 4,
 "nbformat_minor": 2
}
