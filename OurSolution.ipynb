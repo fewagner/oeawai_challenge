{
 "cells": [
  {
   "cell_type": "markdown",
   "metadata": {},
   "source": [
    "### Imports"
   ]
  },
  {
   "cell_type": "code",
   "execution_count": 1,
   "metadata": {
    "ExecuteTime": {
     "end_time": "2019-08-09T20:47:22.912055Z",
     "start_time": "2019-08-09T20:47:20.830642Z"
    }
   },
   "outputs": [],
   "source": [
    "import torch\n",
    "import torch.nn as nn\n",
    "import torch.nn.functional as F\n",
    "import numpy as np\n",
    "import torchvision.transforms as transforms\n",
    "import torch.utils.data as data\n",
    "import matplotlib.pyplot as plt\n",
    "import IPython.display\n",
    "from IPython.display import Audio\n",
    "import torch.optim as optim\n",
    "from types import SimpleNamespace\n",
    "import scipy.signal as sc\n",
    "import time\n",
    "from sklearn.metrics import f1_score\n",
    "\n",
    "from trainDataset import TrainDataset\n",
    "from testDataset import TestDataset\n",
    "#from trainDatasetNew import TrainDatasetNew\n",
    "#from testDatasetNew import TestDatasetNew\n",
    "from validation_split import get_dataloaders\n",
    "from math_utils import logMagStft, ffts\n",
    "from SpectrogramCNN import SpectrogramCNN\n",
    "from train_utils import train, test\n",
    "from evaluation_utils import get_mean_F1\n",
    "from MulitScale1DResNet import MSResNet\n",
    "from SpectralResNet import SpectralResNet34\n",
    "from LSTM import LSTM"
   ]
  },
  {
   "cell_type": "markdown",
   "metadata": {},
   "source": [
    "### Parameters"
   ]
  },
  {
   "cell_type": "code",
   "execution_count": 2,
   "metadata": {
    "ExecuteTime": {
     "end_time": "2019-08-09T20:47:22.923936Z",
     "start_time": "2019-08-09T20:47:22.915418Z"
    }
   },
   "outputs": [
    {
     "name": "stdout",
     "output_type": "stream",
     "text": [
      "no cuda\n"
     ]
    }
   ],
   "source": [
    "validation_split = .2\n",
    "do_plots = False\n",
    "load_model = False\n",
    "args = SimpleNamespace(batch_size=8, test_batch_size=32, epochs=5,\n",
    "                       lr=0.01, momentum=0.5, seed=1, log_interval=200, \n",
    "                      net = LSTM) #SpectrogramCNN, MSResNet, SpectralResNet, SpectralMSResNet, LSTM\n",
    "\n",
    "device = torch.device(\"cuda\" if torch.cuda.is_available() else \"cpu\")\n",
    "\n",
    "if not torch.cuda.is_available(): # adapt those paths on other machine\n",
    "    print('no cuda')\n",
    "    path_train = './../data/train-small/'\n",
    "    path_test =  './../data/test/kaggle-test/'\n",
    "else:\n",
    "    print('with cuda')\n",
    "    path_train = './../data/kaggle-train/'\n",
    "    path_test =  './../data/kaggle-test/'\n",
    "    \n",
    "path_model = 'models/model.pt'\n",
    "path_submission = 'submissions/'\n",
    "    \n",
    "sample_rate = 16000\n",
    "nmbr_classes = 10"
   ]
  },
  {
   "cell_type": "markdown",
   "metadata": {},
   "source": [
    "### Original Dataset"
   ]
  },
  {
   "cell_type": "code",
   "execution_count": 3,
   "metadata": {
    "ExecuteTime": {
     "end_time": "2019-08-09T20:47:23.087629Z",
     "start_time": "2019-08-09T20:47:22.930636Z"
    }
   },
   "outputs": [
    {
     "name": "stdout",
     "output_type": "stream",
     "text": [
      "10000\n",
      "4096\n"
     ]
    }
   ],
   "source": [
    "# todo add in the classes the features and the fft data\n",
    "\n",
    "toFloat = transforms.Lambda(lambda x: x / np.iinfo(np.int16).max)\n",
    "\n",
    "trainDataset = TrainDataset(path_train, transform=toFloat)\n",
    "print(len(trainDataset))\n",
    "\n",
    "testDataset = TestDataset(path_test, transform=toFloat)\n",
    "print(len(testDataset))"
   ]
  },
  {
   "cell_type": "code",
   "execution_count": 4,
   "metadata": {
    "ExecuteTime": {
     "end_time": "2019-08-09T20:47:23.103906Z",
     "start_time": "2019-08-09T20:47:23.091823Z"
    }
   },
   "outputs": [
    {
     "name": "stdout",
     "output_type": "stream",
     "text": [
      "input size:  64000\n"
     ]
    }
   ],
   "source": [
    "input_size = len(trainDataset[0][0])\n",
    "print('input size: ',input_size)"
   ]
  },
  {
   "cell_type": "markdown",
   "metadata": {
    "heading_collapsed": true
   },
   "source": [
    "### Look at Original Data"
   ]
  },
  {
   "cell_type": "code",
   "execution_count": 5,
   "metadata": {
    "ExecuteTime": {
     "end_time": "2019-08-09T20:47:23.119002Z",
     "start_time": "2019-08-09T20:47:23.108867Z"
    },
    "hidden": true
   },
   "outputs": [],
   "source": [
    "if do_plots:\n",
    "    # how many instruments are there?\n",
    "    dummy_count = np.zeros(20)\n",
    "\n",
    "    for sample in trainDataset:\n",
    "        dummy_count[sample[1]] += 1\n",
    "\n",
    "    labels_count = []\n",
    "    for elem in dummy_count:\n",
    "        if elem != 0:\n",
    "            labels_count.append(elem)\n",
    "\n",
    "    print(labels_count)"
   ]
  },
  {
   "cell_type": "code",
   "execution_count": 6,
   "metadata": {
    "ExecuteTime": {
     "end_time": "2019-08-09T20:47:23.141253Z",
     "start_time": "2019-08-09T20:47:23.121453Z"
    },
    "hidden": true
   },
   "outputs": [],
   "source": [
    "if do_plots:\n",
    "    nmbr_classes = len(labels_count)\n",
    "    print('nmbr_classes: ', nmbr_classes)"
   ]
  },
  {
   "cell_type": "code",
   "execution_count": 7,
   "metadata": {
    "ExecuteTime": {
     "end_time": "2019-08-09T20:47:23.169556Z",
     "start_time": "2019-08-09T20:47:23.146653Z"
    },
    "hidden": true
   },
   "outputs": [],
   "source": [
    "if do_plots:\n",
    "    plt.plot(labels_count, '*')"
   ]
  },
  {
   "cell_type": "code",
   "execution_count": 8,
   "metadata": {
    "ExecuteTime": {
     "end_time": "2019-08-09T20:47:23.205288Z",
     "start_time": "2019-08-09T20:47:23.178245Z"
    },
    "hidden": true
   },
   "outputs": [],
   "source": [
    "if do_plots:\n",
    "    # plot one of each\n",
    "\n",
    "    done = np.zeros(nmbr_classes)\n",
    "    examples = []\n",
    "\n",
    "    for sample in trainDataset:\n",
    "        if done[sample[1]] == 0:\n",
    "            examples.append(sample)\n",
    "            done[sample[1]] = 1"
   ]
  },
  {
   "cell_type": "code",
   "execution_count": 9,
   "metadata": {
    "ExecuteTime": {
     "end_time": "2019-08-09T20:47:23.238258Z",
     "start_time": "2019-08-09T20:47:23.210369Z"
    },
    "hidden": true
   },
   "outputs": [],
   "source": [
    "if do_plots:\n",
    "    plt.subplot(431)\n",
    "    plt.plot(examples[0][0])\n",
    "\n",
    "    plt.subplot(432)\n",
    "    plt.plot(examples[1][0])\n",
    "\n",
    "    plt.subplot(433)\n",
    "    plt.plot(examples[2][0])\n",
    "\n",
    "    plt.subplot(434)\n",
    "    plt.plot(examples[3][0])\n",
    "\n",
    "    plt.subplot(435)\n",
    "    plt.plot(examples[4][0])\n",
    "\n",
    "    plt.subplot(436)\n",
    "    plt.plot(examples[5][0])\n",
    "\n",
    "    plt.subplot(437)\n",
    "    plt.plot(examples[6][0])\n",
    "\n",
    "    plt.subplot(438)\n",
    "    plt.plot(examples[7][0])\n",
    "\n",
    "    plt.subplot(439)\n",
    "    plt.plot(examples[8][0])\n",
    "\n",
    "    plt.subplot(4,3,10)\n",
    "    plt.plot(examples[9][0])\n",
    "\n",
    "    plt.show()"
   ]
  },
  {
   "cell_type": "code",
   "execution_count": 10,
   "metadata": {
    "ExecuteTime": {
     "end_time": "2019-08-09T20:47:23.278884Z",
     "start_time": "2019-08-09T20:47:23.242525Z"
    },
    "hidden": true
   },
   "outputs": [],
   "source": [
    "if do_plots:\n",
    "\n",
    "    # plot one of each in FFT\n",
    "\n",
    "    plt.subplot(431)\n",
    "    plt.plot(ffts(examples[0][0]))\n",
    "\n",
    "    plt.subplot(432)\n",
    "    plt.plot(ffts(examples[1][0]))\n",
    "\n",
    "    plt.subplot(433)\n",
    "    plt.plot(ffts(examples[2][0]))\n",
    "\n",
    "    plt.subplot(434)\n",
    "    plt.plot(ffts(examples[3][0]))\n",
    "\n",
    "    plt.subplot(435)\n",
    "    plt.plot(ffts(examples[4][0]))\n",
    "\n",
    "    plt.subplot(436)\n",
    "    plt.plot(ffts(examples[5][0]))\n",
    "\n",
    "    plt.subplot(437)\n",
    "    plt.plot(ffts(examples[6][0]))\n",
    "\n",
    "    plt.subplot(438)\n",
    "    plt.plot(ffts(examples[7][0]))\n",
    "\n",
    "    plt.subplot(439)\n",
    "    plt.plot(ffts(examples[8][0]))\n",
    "\n",
    "    plt.subplot(4,3,10)\n",
    "    plt.plot(ffts(examples[9][0]))\n",
    "\n",
    "    plt.show()"
   ]
  },
  {
   "cell_type": "code",
   "execution_count": 11,
   "metadata": {
    "ExecuteTime": {
     "end_time": "2019-08-09T20:47:23.306542Z",
     "start_time": "2019-08-09T20:47:23.288910Z"
    },
    "hidden": true
   },
   "outputs": [],
   "source": [
    "if do_plots:\n",
    "\n",
    "    for sample in examples:\n",
    "        display(Audio(sample[0], rate=sample_rate))"
   ]
  },
  {
   "cell_type": "markdown",
   "metadata": {},
   "source": [
    "### Dataloaders"
   ]
  },
  {
   "cell_type": "code",
   "execution_count": 12,
   "metadata": {
    "ExecuteTime": {
     "end_time": "2019-08-09T20:47:23.462674Z",
     "start_time": "2019-08-09T20:47:23.310061Z"
    }
   },
   "outputs": [
    {
     "name": "stdout",
     "output_type": "stream",
     "text": [
      "torch.Size([8, 64000]) torch.Size([8]) tensor([5, 0, 4, 3, 5, 5, 5, 3])\n",
      "tensor(-0.8669, dtype=torch.float64) tensor(0.9614, dtype=torch.float64)\n",
      "['mallet' 'bass' 'keyboard' 'guitar' 'mallet' 'mallet' 'mallet' 'guitar']\n",
      "torch.Size([8, 64000]) torch.Size([8]) tensor([4, 0, 3, 0, 0, 4, 1, 6])\n",
      "tensor(-0.9481, dtype=torch.float64) tensor(0.9485, dtype=torch.float64)\n",
      "['keyboard' 'bass' 'guitar' 'bass' 'bass' 'keyboard' 'brass' 'organ']\n"
     ]
    }
   ],
   "source": [
    "# validation split is done here\n",
    "\n",
    "train_loader, validation_loader = get_dataloaders(trainDataset, \n",
    "                                                  batch_size = args.batch_size, \n",
    "                                                  validation_split = validation_split, \n",
    "                                                  shuffle_dataset = True, \n",
    "                                                  random_seed = None)\n",
    "\n",
    "for samples, instrument_family_target in train_loader:\n",
    "        print(samples.shape, instrument_family_target.shape,\n",
    "              instrument_family_target.data)\n",
    "        print(torch.min(samples), torch.max(samples))\n",
    "        print(trainDataset.transformInstrumentsFamilyToString(instrument_family_target.data))\n",
    "        break\n",
    "        \n",
    "for samples, instrument_family_target in validation_loader:\n",
    "        print(samples.shape, instrument_family_target.shape,\n",
    "              instrument_family_target.data)\n",
    "        print(torch.min(samples), torch.max(samples))\n",
    "        print(trainDataset.transformInstrumentsFamilyToString(instrument_family_target.data))\n",
    "        break"
   ]
  },
  {
   "cell_type": "code",
   "execution_count": 13,
   "metadata": {
    "ExecuteTime": {
     "end_time": "2019-08-09T20:47:23.488099Z",
     "start_time": "2019-08-09T20:47:23.468997Z"
    }
   },
   "outputs": [
    {
     "name": "stdout",
     "output_type": "stream",
     "text": [
      "torch.Size([8, 64000])\n",
      "tensor(-0.9465, dtype=torch.float64) tensor(0.9465, dtype=torch.float64)\n"
     ]
    }
   ],
   "source": [
    "test_loader = data.DataLoader(testDataset, batch_size=args.batch_size, shuffle=False) #!!! shuffle should be false\n",
    "for samples in test_loader:\n",
    "        print(samples[0].shape)\n",
    "        print(torch.min(samples[0]), torch.max(samples[0]))\n",
    "        break"
   ]
  },
  {
   "cell_type": "markdown",
   "metadata": {},
   "source": [
    "### Main"
   ]
  },
  {
   "cell_type": "code",
   "execution_count": 14,
   "metadata": {
    "ExecuteTime": {
     "end_time": "2019-08-09T20:47:23.497581Z",
     "start_time": "2019-08-09T20:47:23.491695Z"
    }
   },
   "outputs": [],
   "source": [
    "if (args.net == SpectrogramCNN) or (args.net == SpectralResNet34):\n",
    "    model = args.net(device).to(device)"
   ]
  },
  {
   "cell_type": "code",
   "execution_count": 15,
   "metadata": {
    "ExecuteTime": {
     "end_time": "2019-08-09T20:47:23.521957Z",
     "start_time": "2019-08-09T20:47:23.500506Z"
    }
   },
   "outputs": [],
   "source": [
    "if (args.net == MSResNet):# or (args.net == SpectralMSResNet):\n",
    "    model = args.net(1, device).to(device)"
   ]
  },
  {
   "cell_type": "code",
   "execution_count": 16,
   "metadata": {
    "ExecuteTime": {
     "end_time": "2019-08-09T20:47:23.575787Z",
     "start_time": "2019-08-09T20:47:23.529062Z"
    }
   },
   "outputs": [],
   "source": [
    "if args.net == LSTM:\n",
    "    model = args.net(device, input_size = 252, hidden_size = 512, num_layers = 1, num_classes = 10).to(device)"
   ]
  },
  {
   "cell_type": "code",
   "execution_count": 17,
   "metadata": {
    "ExecuteTime": {
     "end_time": "2019-08-09T20:47:23.601561Z",
     "start_time": "2019-08-09T20:47:23.589615Z"
    }
   },
   "outputs": [
    {
     "name": "stdout",
     "output_type": "stream",
     "text": [
      "LSTM(\n",
      "  (lstm): LSTM(252, 512, batch_first=True)\n",
      "  (fc): Linear(in_features=512, out_features=10, bias=True)\n",
      ")\n"
     ]
    }
   ],
   "source": [
    "print(model)"
   ]
  },
  {
   "cell_type": "code",
   "execution_count": 18,
   "metadata": {
    "ExecuteTime": {
     "end_time": "2019-08-09T20:47:23.629786Z",
     "start_time": "2019-08-09T20:47:23.606792Z"
    }
   },
   "outputs": [],
   "source": [
    "# Main\n",
    "optimizer = optim.Adam(model.parameters(), lr=args.lr)\n",
    "\n",
    "info = {'highest F1' : 100,\n",
    "        'saved epoch' : None}"
   ]
  },
  {
   "cell_type": "code",
   "execution_count": 19,
   "metadata": {
    "ExecuteTime": {
     "end_time": "2019-08-09T20:49:17.040604Z",
     "start_time": "2019-08-09T20:47:23.633824Z"
    }
   },
   "outputs": [
    {
     "name": "stdout",
     "output_type": "stream",
     "text": [
      "Train Epoch: 1 [0/10000 (0%)]\tLoss: 2.371496\tF1: 0.1250\tRuntime: 4.0\n"
     ]
    },
    {
     "ename": "KeyboardInterrupt",
     "evalue": "",
     "output_type": "error",
     "traceback": [
      "\u001b[0;31m---------------------------------------------------------------------------\u001b[0m",
      "\u001b[0;31mKeyboardInterrupt\u001b[0m                         Traceback (most recent call last)",
      "\u001b[0;32m<ipython-input-19-91aff8f5c7b3>\u001b[0m in \u001b[0;36m<module>\u001b[0;34m\u001b[0m\n\u001b[1;32m      1\u001b[0m \u001b[0;32mfor\u001b[0m \u001b[0mepoch\u001b[0m \u001b[0;32min\u001b[0m \u001b[0mrange\u001b[0m\u001b[0;34m(\u001b[0m\u001b[0;36m1\u001b[0m\u001b[0;34m,\u001b[0m \u001b[0margs\u001b[0m\u001b[0;34m.\u001b[0m\u001b[0mepochs\u001b[0m \u001b[0;34m+\u001b[0m \u001b[0;36m1\u001b[0m\u001b[0;34m)\u001b[0m\u001b[0;34m:\u001b[0m\u001b[0;34m\u001b[0m\u001b[0;34m\u001b[0m\u001b[0m\n\u001b[0;32m----> 2\u001b[0;31m     \u001b[0mtrain\u001b[0m\u001b[0;34m(\u001b[0m\u001b[0margs\u001b[0m\u001b[0;34m,\u001b[0m \u001b[0mmodel\u001b[0m\u001b[0;34m,\u001b[0m \u001b[0mdevice\u001b[0m\u001b[0;34m,\u001b[0m \u001b[0mtrain_loader\u001b[0m\u001b[0;34m,\u001b[0m \u001b[0moptimizer\u001b[0m\u001b[0;34m,\u001b[0m \u001b[0mepoch\u001b[0m\u001b[0;34m,\u001b[0m \u001b[0mstart_time\u001b[0m \u001b[0;34m=\u001b[0m \u001b[0mtime\u001b[0m\u001b[0;34m.\u001b[0m\u001b[0mtime\u001b[0m\u001b[0;34m(\u001b[0m\u001b[0;34m)\u001b[0m\u001b[0;34m)\u001b[0m\u001b[0;34m\u001b[0m\u001b[0;34m\u001b[0m\u001b[0m\n\u001b[0m\u001b[1;32m      3\u001b[0m     \u001b[0mf1\u001b[0m \u001b[0;34m=\u001b[0m \u001b[0mget_mean_F1\u001b[0m\u001b[0;34m(\u001b[0m\u001b[0mmodel\u001b[0m\u001b[0;34m,\u001b[0m \u001b[0mvalidation_loader\u001b[0m\u001b[0;34m)\u001b[0m\u001b[0;34m\u001b[0m\u001b[0;34m\u001b[0m\u001b[0m\n\u001b[1;32m      4\u001b[0m     \u001b[0mprint\u001b[0m\u001b[0;34m(\u001b[0m\u001b[0;34m'after epoch {} got f1 score of {}'\u001b[0m\u001b[0;34m.\u001b[0m\u001b[0mformat\u001b[0m\u001b[0;34m(\u001b[0m\u001b[0mepoch\u001b[0m \u001b[0;34m,\u001b[0m \u001b[0mf1\u001b[0m\u001b[0;34m)\u001b[0m\u001b[0;34m)\u001b[0m\u001b[0;34m\u001b[0m\u001b[0;34m\u001b[0m\u001b[0m\n\u001b[1;32m      5\u001b[0m     \u001b[0;32mif\u001b[0m \u001b[0mf1\u001b[0m \u001b[0;34m>\u001b[0m \u001b[0minfo\u001b[0m\u001b[0;34m[\u001b[0m\u001b[0;34m'highest F1'\u001b[0m\u001b[0;34m]\u001b[0m\u001b[0;34m:\u001b[0m\u001b[0;34m\u001b[0m\u001b[0;34m\u001b[0m\u001b[0m\n",
      "\u001b[0;32m~/PROJECTS/oeawai_challenge/train_utils.py\u001b[0m in \u001b[0;36mtrain\u001b[0;34m(args, model, device, train_loader, optimizer, epoch, start_time)\u001b[0m\n\u001b[1;32m     28\u001b[0m         \u001b[0moutput\u001b[0m \u001b[0;34m=\u001b[0m \u001b[0mmodel\u001b[0m\u001b[0;34m(\u001b[0m\u001b[0mdata\u001b[0m\u001b[0;34m)\u001b[0m\u001b[0;34m\u001b[0m\u001b[0;34m\u001b[0m\u001b[0m\n\u001b[1;32m     29\u001b[0m         \u001b[0mloss\u001b[0m \u001b[0;34m=\u001b[0m \u001b[0mF\u001b[0m\u001b[0;34m.\u001b[0m\u001b[0mnll_loss\u001b[0m\u001b[0;34m(\u001b[0m\u001b[0moutput\u001b[0m\u001b[0;34m,\u001b[0m \u001b[0mtarget\u001b[0m\u001b[0;34m)\u001b[0m\u001b[0;34m\u001b[0m\u001b[0;34m\u001b[0m\u001b[0m\n\u001b[0;32m---> 30\u001b[0;31m         \u001b[0mloss\u001b[0m\u001b[0;34m.\u001b[0m\u001b[0mbackward\u001b[0m\u001b[0;34m(\u001b[0m\u001b[0;34m)\u001b[0m\u001b[0;34m\u001b[0m\u001b[0;34m\u001b[0m\u001b[0m\n\u001b[0m\u001b[1;32m     31\u001b[0m         \u001b[0moptimizer\u001b[0m\u001b[0;34m.\u001b[0m\u001b[0mstep\u001b[0m\u001b[0;34m(\u001b[0m\u001b[0;34m)\u001b[0m\u001b[0;34m\u001b[0m\u001b[0;34m\u001b[0m\u001b[0m\n\u001b[1;32m     32\u001b[0m         \u001b[0;32mif\u001b[0m \u001b[0mbatch_idx\u001b[0m \u001b[0;34m%\u001b[0m \u001b[0margs\u001b[0m\u001b[0;34m.\u001b[0m\u001b[0mlog_interval\u001b[0m \u001b[0;34m==\u001b[0m \u001b[0;36m0\u001b[0m\u001b[0;34m:\u001b[0m\u001b[0;34m\u001b[0m\u001b[0;34m\u001b[0m\u001b[0m\n",
      "\u001b[0;32m/usr/local/lib/python3.6/dist-packages/torch/tensor.py\u001b[0m in \u001b[0;36mbackward\u001b[0;34m(self, gradient, retain_graph, create_graph)\u001b[0m\n\u001b[1;32m    105\u001b[0m                 \u001b[0mproducts\u001b[0m\u001b[0;34m.\u001b[0m \u001b[0mDefaults\u001b[0m \u001b[0mto\u001b[0m\u001b[0;31m \u001b[0m\u001b[0;31m`\u001b[0m\u001b[0;31m`\u001b[0m\u001b[0;32mFalse\u001b[0m\u001b[0;31m`\u001b[0m\u001b[0;31m`\u001b[0m\u001b[0;34m.\u001b[0m\u001b[0;34m\u001b[0m\u001b[0;34m\u001b[0m\u001b[0m\n\u001b[1;32m    106\u001b[0m         \"\"\"\n\u001b[0;32m--> 107\u001b[0;31m         \u001b[0mtorch\u001b[0m\u001b[0;34m.\u001b[0m\u001b[0mautograd\u001b[0m\u001b[0;34m.\u001b[0m\u001b[0mbackward\u001b[0m\u001b[0;34m(\u001b[0m\u001b[0mself\u001b[0m\u001b[0;34m,\u001b[0m \u001b[0mgradient\u001b[0m\u001b[0;34m,\u001b[0m \u001b[0mretain_graph\u001b[0m\u001b[0;34m,\u001b[0m \u001b[0mcreate_graph\u001b[0m\u001b[0;34m)\u001b[0m\u001b[0;34m\u001b[0m\u001b[0;34m\u001b[0m\u001b[0m\n\u001b[0m\u001b[1;32m    108\u001b[0m \u001b[0;34m\u001b[0m\u001b[0m\n\u001b[1;32m    109\u001b[0m     \u001b[0;32mdef\u001b[0m \u001b[0mregister_hook\u001b[0m\u001b[0;34m(\u001b[0m\u001b[0mself\u001b[0m\u001b[0;34m,\u001b[0m \u001b[0mhook\u001b[0m\u001b[0;34m)\u001b[0m\u001b[0;34m:\u001b[0m\u001b[0;34m\u001b[0m\u001b[0;34m\u001b[0m\u001b[0m\n",
      "\u001b[0;32m/usr/local/lib/python3.6/dist-packages/torch/autograd/__init__.py\u001b[0m in \u001b[0;36mbackward\u001b[0;34m(tensors, grad_tensors, retain_graph, create_graph, grad_variables)\u001b[0m\n\u001b[1;32m     91\u001b[0m     Variable._execution_engine.run_backward(\n\u001b[1;32m     92\u001b[0m         \u001b[0mtensors\u001b[0m\u001b[0;34m,\u001b[0m \u001b[0mgrad_tensors\u001b[0m\u001b[0;34m,\u001b[0m \u001b[0mretain_graph\u001b[0m\u001b[0;34m,\u001b[0m \u001b[0mcreate_graph\u001b[0m\u001b[0;34m,\u001b[0m\u001b[0;34m\u001b[0m\u001b[0;34m\u001b[0m\u001b[0m\n\u001b[0;32m---> 93\u001b[0;31m         allow_unreachable=True)  # allow_unreachable flag\n\u001b[0m\u001b[1;32m     94\u001b[0m \u001b[0;34m\u001b[0m\u001b[0m\n\u001b[1;32m     95\u001b[0m \u001b[0;34m\u001b[0m\u001b[0m\n",
      "\u001b[0;31mKeyboardInterrupt\u001b[0m: "
     ]
    }
   ],
   "source": [
    "for epoch in range(1, args.epochs + 1):\n",
    "    train(args, model, device, train_loader, optimizer, epoch, start_time = time.time())\n",
    "    f1 = get_mean_F1(model, validation_loader)\n",
    "    print('after epoch {} got f1 score of {}'.format(epoch , f1))\n",
    "    if f1 > info['highest F1']:\n",
    "        info['highest F1'] = np.copy(f1)\n",
    "        info['saved epoch'] = epoch \n",
    "        test(args, model, device, test_loader, epoch, trainDataset, testDataset, path_submission)\n",
    "        torch.save(model, path_model)\n",
    "        print('currently best model --> saved')\n",
    "        \n",
    "print(info)"
   ]
  },
  {
   "cell_type": "markdown",
   "metadata": {},
   "source": [
    "### Load Model"
   ]
  },
  {
   "cell_type": "code",
   "execution_count": null,
   "metadata": {
    "ExecuteTime": {
     "start_time": "2019-08-09T07:44:09.127Z"
    },
    "deletable": false,
    "editable": false,
    "run_control": {
     "frozen": true
    }
   },
   "outputs": [],
   "source": [
    "if load_model:\n",
    "    model = torch.load(path_model)"
   ]
  },
  {
   "cell_type": "code",
   "execution_count": null,
   "metadata": {
    "ExecuteTime": {
     "start_time": "2019-08-09T07:44:09.139Z"
    },
    "deletable": false,
    "editable": false,
    "run_control": {
     "frozen": true
    }
   },
   "outputs": [],
   "source": [
    "get_mean_F1(model, validation_loader)"
   ]
  },
  {
   "cell_type": "code",
   "execution_count": null,
   "metadata": {
    "ExecuteTime": {
     "start_time": "2019-08-09T07:44:09.143Z"
    },
    "deletable": false,
    "editable": false,
    "run_control": {
     "frozen": true
    }
   },
   "outputs": [],
   "source": [
    "epoch=10\n",
    "test(args, model, device, test_loader, epoch, trainDataset, testDataset, path_submission)"
   ]
  },
  {
   "cell_type": "code",
   "execution_count": null,
   "metadata": {},
   "outputs": [],
   "source": []
  }
 ],
 "metadata": {
  "kernelspec": {
   "display_name": "Python 3",
   "language": "python",
   "name": "python3"
  },
  "language_info": {
   "codemirror_mode": {
    "name": "ipython",
    "version": 3
   },
   "file_extension": ".py",
   "mimetype": "text/x-python",
   "name": "python",
   "nbconvert_exporter": "python",
   "pygments_lexer": "ipython3",
   "version": "3.6.7"
  },
  "toc": {
   "base_numbering": 1,
   "nav_menu": {},
   "number_sections": true,
   "sideBar": true,
   "skip_h1_title": false,
   "title_cell": "Table of Contents",
   "title_sidebar": "Contents",
   "toc_cell": false,
   "toc_position": {},
   "toc_section_display": true,
   "toc_window_display": false
  },
  "varInspector": {
   "cols": {
    "lenName": 16,
    "lenType": 16,
    "lenVar": 40
   },
   "kernels_config": {
    "python": {
     "delete_cmd_postfix": "",
     "delete_cmd_prefix": "del ",
     "library": "var_list.py",
     "varRefreshCmd": "print(var_dic_list())"
    },
    "r": {
     "delete_cmd_postfix": ") ",
     "delete_cmd_prefix": "rm(",
     "library": "var_list.r",
     "varRefreshCmd": "cat(var_dic_list()) "
    }
   },
   "types_to_exclude": [
    "module",
    "function",
    "builtin_function_or_method",
    "instance",
    "_Feature"
   ],
   "window_display": false
  }
 },
 "nbformat": 4,
 "nbformat_minor": 2
}
