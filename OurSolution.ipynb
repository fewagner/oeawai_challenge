{
 "cells": [
  {
   "cell_type": "markdown",
   "metadata": {},
   "source": [
    "### Imports"
   ]
  },
  {
   "cell_type": "code",
   "execution_count": 1,
   "metadata": {
    "ExecuteTime": {
     "end_time": "2019-08-08T18:28:52.357505Z",
     "start_time": "2019-08-08T18:28:51.422360Z"
    }
   },
   "outputs": [],
   "source": [
    "import torch\n",
    "import torch.nn as nn\n",
    "import torch.nn.functional as F\n",
    "import numpy as np\n",
    "import torchvision.transforms as transforms\n",
    "import torch.utils.data as data\n",
    "import matplotlib.pyplot as plt\n",
    "import IPython.display\n",
    "from IPython.display import Audio\n",
    "import torch.optim as optim\n",
    "from types import SimpleNamespace\n",
    "import scipy.signal as sc\n",
    "import time\n",
    "from sklearn.metrics import f1_score\n",
    "\n",
    "from trainDataset import TrainDataset\n",
    "from testDataset import TestDataset\n",
    "#from trainDatasetNew import TrainDatasetNew\n",
    "#from testDatasetNew import TestDatasetNew\n",
    "from validation_split import get_dataloaders\n",
    "from math_utils import logMagStft, ffts\n",
    "from SpectrogramCNN import SpectrogramCNN\n",
    "from train_utils import train, test\n",
    "from evaluation_utils import get_mean_F1\n",
    "from MulitScale1DResNet import MSResNet"
   ]
  },
  {
   "cell_type": "markdown",
   "metadata": {},
   "source": [
    "### Parameters"
   ]
  },
  {
   "cell_type": "code",
   "execution_count": 2,
   "metadata": {
    "ExecuteTime": {
     "end_time": "2019-08-08T18:28:52.691001Z",
     "start_time": "2019-08-08T18:28:52.679802Z"
    }
   },
   "outputs": [
    {
     "name": "stdout",
     "output_type": "stream",
     "text": [
      "no cuda\n"
     ]
    }
   ],
   "source": [
    "validation_split = .2\n",
    "do_plots = False\n",
    "load_model = True\n",
    "args = SimpleNamespace(batch_size=64, test_batch_size=64, epochs=1,\n",
    "                       lr=0.01, momentum=0.5, seed=1, log_interval=200, \n",
    "                      net = SpectrogramCNN)\n",
    "\n",
    "device = torch.device(\"cuda\" if torch.cuda.is_available() else \"cpu\")\n",
    "\n",
    "if not torch.cuda.is_available(): # adapt those paths on other machine\n",
    "    print('no cuda')\n",
    "    path_train = './../data/train-small/'\n",
    "    path_test =  './../data/test/kaggle-test/'\n",
    "else:\n",
    "    print('with cuda')\n",
    "    path_train = './../data/kaggle-train/'\n",
    "    path_test =  './../data/kaggle-test/'\n",
    "    \n",
    "path_model = 'models/model.pt'\n",
    "path_submission = 'submissions/'\n",
    "    \n",
    "sample_rate = 16000\n",
    "nmbr_classes = 10"
   ]
  },
  {
   "cell_type": "markdown",
   "metadata": {},
   "source": [
    "### Original Dataset"
   ]
  },
  {
   "cell_type": "code",
   "execution_count": 3,
   "metadata": {
    "ExecuteTime": {
     "end_time": "2019-08-08T18:28:55.021898Z",
     "start_time": "2019-08-08T18:28:54.926347Z"
    }
   },
   "outputs": [
    {
     "name": "stdout",
     "output_type": "stream",
     "text": [
      "10000\n",
      "4096\n"
     ]
    }
   ],
   "source": [
    "# todo add in the classes the features and the fft data\n",
    "\n",
    "toFloat = transforms.Lambda(lambda x: x / np.iinfo(np.int16).max)\n",
    "\n",
    "trainDataset = TrainDataset(path_train, transform=toFloat)\n",
    "print(len(trainDataset))\n",
    "\n",
    "testDataset = TestDataset(path_test, transform=toFloat)\n",
    "print(len(testDataset))"
   ]
  },
  {
   "cell_type": "code",
   "execution_count": 4,
   "metadata": {
    "ExecuteTime": {
     "end_time": "2019-08-08T18:28:56.857819Z",
     "start_time": "2019-08-08T18:28:56.849441Z"
    }
   },
   "outputs": [
    {
     "name": "stdout",
     "output_type": "stream",
     "text": [
      "input size:  64000\n"
     ]
    }
   ],
   "source": [
    "input_size = len(trainDataset[0][0])\n",
    "print('input size: ',input_size)"
   ]
  },
  {
   "cell_type": "markdown",
   "metadata": {
    "heading_collapsed": true
   },
   "source": [
    "### Look at Original Data"
   ]
  },
  {
   "cell_type": "code",
   "execution_count": null,
   "metadata": {
    "ExecuteTime": {
     "end_time": "2019-08-08T12:47:59.870466Z",
     "start_time": "2019-08-08T12:47:59.867431Z"
    },
    "hidden": true
   },
   "outputs": [],
   "source": [
    "if do_plots:\n",
    "    # how many instruments are there?\n",
    "    dummy_count = np.zeros(20)\n",
    "\n",
    "    for sample in trainDataset:\n",
    "        dummy_count[sample[1]] += 1\n",
    "\n",
    "    labels_count = []\n",
    "    for elem in dummy_count:\n",
    "        if elem != 0:\n",
    "            labels_count.append(elem)\n",
    "\n",
    "    print(labels_count)"
   ]
  },
  {
   "cell_type": "code",
   "execution_count": null,
   "metadata": {
    "ExecuteTime": {
     "end_time": "2019-08-08T12:47:59.876725Z",
     "start_time": "2019-08-08T12:47:59.872627Z"
    },
    "hidden": true
   },
   "outputs": [],
   "source": [
    "if do_plots:\n",
    "    nmbr_classes = len(labels_count)\n",
    "    print('nmbr_classes: ', nmbr_classes)"
   ]
  },
  {
   "cell_type": "code",
   "execution_count": null,
   "metadata": {
    "ExecuteTime": {
     "end_time": "2019-08-08T12:47:59.886623Z",
     "start_time": "2019-08-08T12:47:59.879185Z"
    },
    "hidden": true
   },
   "outputs": [],
   "source": [
    "if do_plots:\n",
    "    plt.plot(labels_count, '*')"
   ]
  },
  {
   "cell_type": "code",
   "execution_count": null,
   "metadata": {
    "ExecuteTime": {
     "end_time": "2019-08-08T12:47:59.892328Z",
     "start_time": "2019-08-08T12:47:59.889067Z"
    },
    "hidden": true
   },
   "outputs": [],
   "source": [
    "if do_plots:\n",
    "    # plot one of each\n",
    "\n",
    "    done = np.zeros(nmbr_classes)\n",
    "    examples = []\n",
    "\n",
    "    for sample in trainDataset:\n",
    "        if done[sample[1]] == 0:\n",
    "            examples.append(sample)\n",
    "            done[sample[1]] = 1"
   ]
  },
  {
   "cell_type": "code",
   "execution_count": null,
   "metadata": {
    "ExecuteTime": {
     "end_time": "2019-08-08T12:47:59.899570Z",
     "start_time": "2019-08-08T12:47:59.894091Z"
    },
    "hidden": true
   },
   "outputs": [],
   "source": [
    "if do_plots:\n",
    "    plt.subplot(431)\n",
    "    plt.plot(examples[0][0])\n",
    "\n",
    "    plt.subplot(432)\n",
    "    plt.plot(examples[1][0])\n",
    "\n",
    "    plt.subplot(433)\n",
    "    plt.plot(examples[2][0])\n",
    "\n",
    "    plt.subplot(434)\n",
    "    plt.plot(examples[3][0])\n",
    "\n",
    "    plt.subplot(435)\n",
    "    plt.plot(examples[4][0])\n",
    "\n",
    "    plt.subplot(436)\n",
    "    plt.plot(examples[5][0])\n",
    "\n",
    "    plt.subplot(437)\n",
    "    plt.plot(examples[6][0])\n",
    "\n",
    "    plt.subplot(438)\n",
    "    plt.plot(examples[7][0])\n",
    "\n",
    "    plt.subplot(439)\n",
    "    plt.plot(examples[8][0])\n",
    "\n",
    "    plt.subplot(4,3,10)\n",
    "    plt.plot(examples[9][0])\n",
    "\n",
    "    plt.show()"
   ]
  },
  {
   "cell_type": "code",
   "execution_count": null,
   "metadata": {
    "ExecuteTime": {
     "end_time": "2019-08-08T12:47:59.907629Z",
     "start_time": "2019-08-08T12:47:59.900872Z"
    },
    "hidden": true
   },
   "outputs": [],
   "source": [
    "if do_plots:\n",
    "\n",
    "    # plot one of each in FFT\n",
    "\n",
    "    plt.subplot(431)\n",
    "    plt.plot(ffts(examples[0][0]))\n",
    "\n",
    "    plt.subplot(432)\n",
    "    plt.plot(ffts(examples[1][0]))\n",
    "\n",
    "    plt.subplot(433)\n",
    "    plt.plot(ffts(examples[2][0]))\n",
    "\n",
    "    plt.subplot(434)\n",
    "    plt.plot(ffts(examples[3][0]))\n",
    "\n",
    "    plt.subplot(435)\n",
    "    plt.plot(ffts(examples[4][0]))\n",
    "\n",
    "    plt.subplot(436)\n",
    "    plt.plot(ffts(examples[5][0]))\n",
    "\n",
    "    plt.subplot(437)\n",
    "    plt.plot(ffts(examples[6][0]))\n",
    "\n",
    "    plt.subplot(438)\n",
    "    plt.plot(ffts(examples[7][0]))\n",
    "\n",
    "    plt.subplot(439)\n",
    "    plt.plot(ffts(examples[8][0]))\n",
    "\n",
    "    plt.subplot(4,3,10)\n",
    "    plt.plot(ffts(examples[9][0]))\n",
    "\n",
    "    plt.show()"
   ]
  },
  {
   "cell_type": "code",
   "execution_count": null,
   "metadata": {
    "ExecuteTime": {
     "end_time": "2019-08-08T12:47:59.913617Z",
     "start_time": "2019-08-08T12:47:59.910121Z"
    },
    "hidden": true
   },
   "outputs": [],
   "source": [
    "if do_plots:\n",
    "\n",
    "    for sample in examples:\n",
    "        display(Audio(sample[0], rate=sample_rate))"
   ]
  },
  {
   "cell_type": "markdown",
   "metadata": {},
   "source": [
    "### Dataloaders"
   ]
  },
  {
   "cell_type": "code",
   "execution_count": 5,
   "metadata": {
    "ExecuteTime": {
     "end_time": "2019-08-08T18:29:04.640308Z",
     "start_time": "2019-08-08T18:29:04.343062Z"
    }
   },
   "outputs": [
    {
     "name": "stdout",
     "output_type": "stream",
     "text": [
      "torch.Size([64, 64000]) torch.Size([64]) tensor([7, 4, 3, 6, 8, 4, 8, 0, 8, 4, 4, 5, 6, 4, 3, 3, 2, 9, 5, 9, 6, 6, 4, 0,\n",
      "        4, 3, 4, 0, 7, 4, 9, 0, 3, 6, 3, 8, 5, 2, 0, 6, 1, 4, 6, 8, 1, 6, 0, 6,\n",
      "        3, 0, 8, 0, 1, 4, 1, 0, 6, 5, 2, 5, 6, 4, 4, 4])\n",
      "tensor(-0.9479, dtype=torch.float64) tensor(0.9533, dtype=torch.float64)\n",
      "['reed' 'keyboard' 'guitar' 'organ' 'string' 'keyboard' 'string' 'bass'\n",
      " 'string' 'keyboard' 'keyboard' 'mallet' 'organ' 'keyboard' 'guitar'\n",
      " 'guitar' 'flute' 'vocal' 'mallet' 'vocal' 'organ' 'organ' 'keyboard'\n",
      " 'bass' 'keyboard' 'guitar' 'keyboard' 'bass' 'reed' 'keyboard' 'vocal'\n",
      " 'bass' 'guitar' 'organ' 'guitar' 'string' 'mallet' 'flute' 'bass' 'organ'\n",
      " 'brass' 'keyboard' 'organ' 'string' 'brass' 'organ' 'bass' 'organ'\n",
      " 'guitar' 'bass' 'string' 'bass' 'brass' 'keyboard' 'brass' 'bass' 'organ'\n",
      " 'mallet' 'flute' 'mallet' 'organ' 'keyboard' 'keyboard' 'keyboard']\n",
      "torch.Size([64, 64000]) torch.Size([64]) tensor([2, 0, 7, 4, 4, 0, 8, 6, 0, 4, 0, 0, 4, 4, 0, 0, 6, 5, 0, 0, 3, 0, 0, 5,\n",
      "        5, 2, 0, 3, 0, 0, 0, 7, 4, 5, 9, 1, 9, 4, 8, 7, 4, 0, 0, 0, 6, 8, 3, 4,\n",
      "        4, 6, 0, 0, 5, 6, 8, 5, 1, 4, 3, 4, 0, 5, 6, 2])\n",
      "tensor(-1.0000, dtype=torch.float64) tensor(1.0000, dtype=torch.float64)\n",
      "['flute' 'bass' 'reed' 'keyboard' 'keyboard' 'bass' 'string' 'organ'\n",
      " 'bass' 'keyboard' 'bass' 'bass' 'keyboard' 'keyboard' 'bass' 'bass'\n",
      " 'organ' 'mallet' 'bass' 'bass' 'guitar' 'bass' 'bass' 'mallet' 'mallet'\n",
      " 'flute' 'bass' 'guitar' 'bass' 'bass' 'bass' 'reed' 'keyboard' 'mallet'\n",
      " 'vocal' 'brass' 'vocal' 'keyboard' 'string' 'reed' 'keyboard' 'bass'\n",
      " 'bass' 'bass' 'organ' 'string' 'guitar' 'keyboard' 'keyboard' 'organ'\n",
      " 'bass' 'bass' 'mallet' 'organ' 'string' 'mallet' 'brass' 'keyboard'\n",
      " 'guitar' 'keyboard' 'bass' 'mallet' 'organ' 'flute']\n"
     ]
    }
   ],
   "source": [
    "# validation split is done here\n",
    "\n",
    "train_loader, validation_loader = get_dataloaders(trainDataset, \n",
    "                                                  batch_size = args.batch_size, \n",
    "                                                  validation_split = validation_split, \n",
    "                                                  shuffle_dataset = True, \n",
    "                                                  random_seed = None)\n",
    "\n",
    "for samples, instrument_family_target in train_loader:\n",
    "        print(samples.shape, instrument_family_target.shape,\n",
    "              instrument_family_target.data)\n",
    "        print(torch.min(samples), torch.max(samples))\n",
    "        print(trainDataset.transformInstrumentsFamilyToString(instrument_family_target.data))\n",
    "        break\n",
    "        \n",
    "for samples, instrument_family_target in validation_loader:\n",
    "        print(samples.shape, instrument_family_target.shape,\n",
    "              instrument_family_target.data)\n",
    "        print(torch.min(samples), torch.max(samples))\n",
    "        print(trainDataset.transformInstrumentsFamilyToString(instrument_family_target.data))\n",
    "        break"
   ]
  },
  {
   "cell_type": "code",
   "execution_count": 6,
   "metadata": {
    "ExecuteTime": {
     "end_time": "2019-08-08T18:29:05.773809Z",
     "start_time": "2019-08-08T18:29:05.706391Z"
    }
   },
   "outputs": [
    {
     "name": "stdout",
     "output_type": "stream",
     "text": [
      "torch.Size([64000])\n",
      "tensor(-0.8243, dtype=torch.float64) tensor(0.7460, dtype=torch.float64)\n"
     ]
    }
   ],
   "source": [
    "test_loader = data.DataLoader(testDataset, batch_size=args.batch_size, shuffle=False) #!!! shuffle should be false\n",
    "for samples in test_loader:\n",
    "        print(samples[0].shape)\n",
    "        print(torch.min(samples[0]), torch.max(samples[0]))\n",
    "        break"
   ]
  },
  {
   "cell_type": "markdown",
   "metadata": {},
   "source": [
    "### Main"
   ]
  },
  {
   "cell_type": "code",
   "execution_count": null,
   "metadata": {},
   "outputs": [],
   "source": [
    "model = args.net(device).to(device)"
   ]
  },
  {
   "cell_type": "code",
   "execution_count": null,
   "metadata": {
    "ExecuteTime": {
     "end_time": "2019-08-08T14:43:54.027990Z",
     "start_time": "2019-08-08T14:43:54.020827Z"
    }
   },
   "outputs": [],
   "source": [
    "# Main\n",
    "optimizer = optim.SGD(model.parameters(), lr=args.lr, \n",
    "                      momentum=args.momentum)\n",
    "\n",
    "info = {'lowest F1' : 100,\n",
    "        'saved epoch' : None}"
   ]
  },
  {
   "cell_type": "code",
   "execution_count": null,
   "metadata": {
    "ExecuteTime": {
     "end_time": "2019-08-08T14:59:03.474233Z",
     "start_time": "2019-08-08T14:45:00.609549Z"
    }
   },
   "outputs": [],
   "source": [
    "for epoch in range(1+3, args.epochs + 1 +3):\n",
    "    train(args, model, device, train_loader, optimizer, epoch, start_time = time.time())\n",
    "    f1 = get_mean_F1(model, validation_loader)\n",
    "    print('after epoch {} got f1 score of {}'.format(epoch , f1))\n",
    "    if f1 < info['lowest F1']:\n",
    "        info['lowest F1'] = f1\n",
    "        info['saved epoch'] = epoch \n",
    "        test(args, model, device, test_loader, epoch, trainDataset, testDataset, path_submission)\n",
    "        torch.save(model, path_model)\n",
    "        print('currently best model --> saved')"
   ]
  },
  {
   "cell_type": "markdown",
   "metadata": {},
   "source": [
    "### Load Model"
   ]
  },
  {
   "cell_type": "code",
   "execution_count": 7,
   "metadata": {
    "ExecuteTime": {
     "end_time": "2019-08-08T18:29:10.402771Z",
     "start_time": "2019-08-08T18:29:10.388434Z"
    }
   },
   "outputs": [],
   "source": [
    "if load_model:\n",
    "    model = torch.load(path_model)"
   ]
  },
  {
   "cell_type": "code",
   "execution_count": null,
   "metadata": {
    "ExecuteTime": {
     "end_time": "2019-08-08T15:18:33.156239Z",
     "start_time": "2019-08-08T15:15:38.510679Z"
    }
   },
   "outputs": [],
   "source": [
    "get_mean_F1(model, validation_loader)"
   ]
  },
  {
   "cell_type": "code",
   "execution_count": 8,
   "metadata": {
    "ExecuteTime": {
     "end_time": "2019-08-08T18:30:37.886081Z",
     "start_time": "2019-08-08T18:29:11.469207Z"
    }
   },
   "outputs": [
    {
     "name": "stdout",
     "output_type": "stream",
     "text": [
      "saved predictions\n"
     ]
    }
   ],
   "source": [
    "epoch = 0\n",
    "test(args, model, device, test_loader, epoch, trainDataset, testDataset, path_submission)"
   ]
  }
 ],
 "metadata": {
  "kernelspec": {
   "display_name": "Python 3",
   "language": "python",
   "name": "python3"
  },
  "language_info": {
   "codemirror_mode": {
    "name": "ipython",
    "version": 3
   },
   "file_extension": ".py",
   "mimetype": "text/x-python",
   "name": "python",
   "nbconvert_exporter": "python",
   "pygments_lexer": "ipython3",
   "version": "3.6.7"
  },
  "toc": {
   "base_numbering": 1,
   "nav_menu": {},
   "number_sections": true,
   "sideBar": true,
   "skip_h1_title": false,
   "title_cell": "Table of Contents",
   "title_sidebar": "Contents",
   "toc_cell": false,
   "toc_position": {},
   "toc_section_display": true,
   "toc_window_display": false
  },
  "varInspector": {
   "cols": {
    "lenName": 16,
    "lenType": 16,
    "lenVar": 40
   },
   "kernels_config": {
    "python": {
     "delete_cmd_postfix": "",
     "delete_cmd_prefix": "del ",
     "library": "var_list.py",
     "varRefreshCmd": "print(var_dic_list())"
    },
    "r": {
     "delete_cmd_postfix": ") ",
     "delete_cmd_prefix": "rm(",
     "library": "var_list.r",
     "varRefreshCmd": "cat(var_dic_list()) "
    }
   },
   "types_to_exclude": [
    "module",
    "function",
    "builtin_function_or_method",
    "instance",
    "_Feature"
   ],
   "window_display": false
  }
 },
 "nbformat": 4,
 "nbformat_minor": 2
}
