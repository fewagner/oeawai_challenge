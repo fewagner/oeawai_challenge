{
 "cells": [
  {
   "cell_type": "markdown",
   "metadata": {},
   "source": [
    "### Imports"
   ]
  },
  {
   "cell_type": "code",
   "execution_count": 1,
   "metadata": {
    "ExecuteTime": {
     "end_time": "2019-08-08T12:47:58.599336Z",
     "start_time": "2019-08-08T12:47:58.018211Z"
    }
   },
   "outputs": [],
   "source": [
    "import torch\n",
    "import torch.nn as nn\n",
    "import torch.nn.functional as F\n",
    "import numpy as np\n",
    "import torchvision.transforms as transforms\n",
    "import torch.utils.data as data\n",
    "import matplotlib.pyplot as plt\n",
    "import IPython.display\n",
    "from IPython.display import Audio\n",
    "import torch.optim as optim\n",
    "from types import SimpleNamespace\n",
    "import scipy.signal as sc\n",
    "import time\n",
    "from sklearn.metrics import f1_score\n",
    "\n",
    "from trainDataset import TrainDataset\n",
    "from testDataset import TestDataset\n",
    "#from trainDatasetNew import TrainDatasetNew\n",
    "#from testDatasetNew import TestDatasetNew\n",
    "from validation_split import get_dataloaders\n",
    "from math_utils import logMagStft, ffts\n",
    "from SpectrogramCNN import SpectrogramCNN\n",
    "from train_utils import train, test\n",
    "from evaluation_utils import get_mean_F1"
   ]
  },
  {
   "cell_type": "markdown",
   "metadata": {},
   "source": [
    "### Parameters"
   ]
  },
  {
   "cell_type": "code",
   "execution_count": 2,
   "metadata": {
    "ExecuteTime": {
     "end_time": "2019-08-08T12:47:58.611418Z",
     "start_time": "2019-08-08T12:47:58.601293Z"
    }
   },
   "outputs": [
    {
     "name": "stdout",
     "output_type": "stream",
     "text": [
      "with cuda\n"
     ]
    }
   ],
   "source": [
    "validation_split = .2\n",
    "do_plots = False\n",
    "args = SimpleNamespace(batch_size=64, test_batch_size=64, epochs=3,\n",
    "                       lr=0.01, momentum=0.5, seed=1, log_interval=200, \n",
    "                      net = SpectrogramCNN)\n",
    "\n",
    "device = torch.device(\"cuda\" if torch.cuda.is_available() else \"cpu\")\n",
    "\n",
    "path_test =  './../data/test/kaggle-test/'\n",
    "if not torch.cuda.is_available(): # adapt those paths on other machine\n",
    "    print('no cuda')\n",
    "    path_train = './../data/train-small/'\n",
    "else:\n",
    "    print('with cuda')\n",
    "    path_train = './../data/kaggle-train/'\n",
    "    \n",
    "path_model = 'models/model.pt'\n",
    "path_submission = 'submissions/'\n",
    "    \n",
    "sample_rate = 16000\n",
    "nmbr_classes = 10"
   ]
  },
  {
   "cell_type": "markdown",
   "metadata": {},
   "source": [
    "### Original Dataset"
   ]
  },
  {
   "cell_type": "code",
   "execution_count": 3,
   "metadata": {
    "ExecuteTime": {
     "end_time": "2019-08-08T12:47:59.855823Z",
     "start_time": "2019-08-08T12:47:58.614052Z"
    }
   },
   "outputs": [
    {
     "name": "stdout",
     "output_type": "stream",
     "text": [
      "269776\n",
      "0\n"
     ]
    }
   ],
   "source": [
    "# todo add in the classes the features and the fft data\n",
    "\n",
    "toFloat = transforms.Lambda(lambda x: x / np.iinfo(np.int16).max)\n",
    "\n",
    "trainDataset = TrainDataset(path_train, transform=toFloat)\n",
    "print(len(trainDataset))\n",
    "\n",
    "testDataset = TestDataset(path_test, transform=toFloat)\n",
    "print(len(testDataset))"
   ]
  },
  {
   "cell_type": "code",
   "execution_count": 4,
   "metadata": {
    "ExecuteTime": {
     "end_time": "2019-08-08T12:47:59.864729Z",
     "start_time": "2019-08-08T12:47:59.859646Z"
    }
   },
   "outputs": [
    {
     "name": "stdout",
     "output_type": "stream",
     "text": [
      "input size:  64000\n"
     ]
    }
   ],
   "source": [
    "input_size = len(trainDataset[0][0])\n",
    "print('input size: ',input_size)"
   ]
  },
  {
   "cell_type": "markdown",
   "metadata": {
    "heading_collapsed": true
   },
   "source": [
    "### Look at Original Data"
   ]
  },
  {
   "cell_type": "code",
   "execution_count": 5,
   "metadata": {
    "ExecuteTime": {
     "end_time": "2019-08-08T12:47:59.870466Z",
     "start_time": "2019-08-08T12:47:59.867431Z"
    },
    "hidden": true
   },
   "outputs": [],
   "source": [
    "if do_plots:\n",
    "    # how many instruments are there?\n",
    "    dummy_count = np.zeros(20)\n",
    "\n",
    "    for sample in trainDataset:\n",
    "        dummy_count[sample[1]] += 1\n",
    "\n",
    "    labels_count = []\n",
    "    for elem in dummy_count:\n",
    "        if elem != 0:\n",
    "            labels_count.append(elem)\n",
    "\n",
    "    print(labels_count)"
   ]
  },
  {
   "cell_type": "code",
   "execution_count": 6,
   "metadata": {
    "ExecuteTime": {
     "end_time": "2019-08-08T12:47:59.876725Z",
     "start_time": "2019-08-08T12:47:59.872627Z"
    },
    "hidden": true
   },
   "outputs": [],
   "source": [
    "if do_plots:\n",
    "    nmbr_classes = len(labels_count)\n",
    "    print('nmbr_classes: ', nmbr_classes)"
   ]
  },
  {
   "cell_type": "code",
   "execution_count": 7,
   "metadata": {
    "ExecuteTime": {
     "end_time": "2019-08-08T12:47:59.886623Z",
     "start_time": "2019-08-08T12:47:59.879185Z"
    },
    "hidden": true
   },
   "outputs": [],
   "source": [
    "if do_plots:\n",
    "    plt.plot(labels_count, '*')"
   ]
  },
  {
   "cell_type": "code",
   "execution_count": 8,
   "metadata": {
    "ExecuteTime": {
     "end_time": "2019-08-08T12:47:59.892328Z",
     "start_time": "2019-08-08T12:47:59.889067Z"
    },
    "hidden": true
   },
   "outputs": [],
   "source": [
    "if do_plots:\n",
    "    # plot one of each\n",
    "\n",
    "    done = np.zeros(nmbr_classes)\n",
    "    examples = []\n",
    "\n",
    "    for sample in trainDataset:\n",
    "        if done[sample[1]] == 0:\n",
    "            examples.append(sample)\n",
    "            done[sample[1]] = 1"
   ]
  },
  {
   "cell_type": "code",
   "execution_count": 9,
   "metadata": {
    "ExecuteTime": {
     "end_time": "2019-08-08T12:47:59.899570Z",
     "start_time": "2019-08-08T12:47:59.894091Z"
    },
    "hidden": true
   },
   "outputs": [],
   "source": [
    "if do_plots:\n",
    "    plt.subplot(431)\n",
    "    plt.plot(examples[0][0])\n",
    "\n",
    "    plt.subplot(432)\n",
    "    plt.plot(examples[1][0])\n",
    "\n",
    "    plt.subplot(433)\n",
    "    plt.plot(examples[2][0])\n",
    "\n",
    "    plt.subplot(434)\n",
    "    plt.plot(examples[3][0])\n",
    "\n",
    "    plt.subplot(435)\n",
    "    plt.plot(examples[4][0])\n",
    "\n",
    "    plt.subplot(436)\n",
    "    plt.plot(examples[5][0])\n",
    "\n",
    "    plt.subplot(437)\n",
    "    plt.plot(examples[6][0])\n",
    "\n",
    "    plt.subplot(438)\n",
    "    plt.plot(examples[7][0])\n",
    "\n",
    "    plt.subplot(439)\n",
    "    plt.plot(examples[8][0])\n",
    "\n",
    "    plt.subplot(4,3,10)\n",
    "    plt.plot(examples[9][0])\n",
    "\n",
    "    plt.show()"
   ]
  },
  {
   "cell_type": "code",
   "execution_count": 10,
   "metadata": {
    "ExecuteTime": {
     "end_time": "2019-08-08T12:47:59.907629Z",
     "start_time": "2019-08-08T12:47:59.900872Z"
    },
    "hidden": true
   },
   "outputs": [],
   "source": [
    "if do_plots:\n",
    "\n",
    "    # plot one of each in FFT\n",
    "\n",
    "    plt.subplot(431)\n",
    "    plt.plot(ffts(examples[0][0]))\n",
    "\n",
    "    plt.subplot(432)\n",
    "    plt.plot(ffts(examples[1][0]))\n",
    "\n",
    "    plt.subplot(433)\n",
    "    plt.plot(ffts(examples[2][0]))\n",
    "\n",
    "    plt.subplot(434)\n",
    "    plt.plot(ffts(examples[3][0]))\n",
    "\n",
    "    plt.subplot(435)\n",
    "    plt.plot(ffts(examples[4][0]))\n",
    "\n",
    "    plt.subplot(436)\n",
    "    plt.plot(ffts(examples[5][0]))\n",
    "\n",
    "    plt.subplot(437)\n",
    "    plt.plot(ffts(examples[6][0]))\n",
    "\n",
    "    plt.subplot(438)\n",
    "    plt.plot(ffts(examples[7][0]))\n",
    "\n",
    "    plt.subplot(439)\n",
    "    plt.plot(ffts(examples[8][0]))\n",
    "\n",
    "    plt.subplot(4,3,10)\n",
    "    plt.plot(ffts(examples[9][0]))\n",
    "\n",
    "    plt.show()"
   ]
  },
  {
   "cell_type": "code",
   "execution_count": 11,
   "metadata": {
    "ExecuteTime": {
     "end_time": "2019-08-08T12:47:59.913617Z",
     "start_time": "2019-08-08T12:47:59.910121Z"
    },
    "hidden": true
   },
   "outputs": [],
   "source": [
    "if do_plots:\n",
    "\n",
    "    for sample in examples:\n",
    "        display(Audio(sample[0], rate=sample_rate))"
   ]
  },
  {
   "cell_type": "markdown",
   "metadata": {},
   "source": [
    "### Dataloaders"
   ]
  },
  {
   "cell_type": "code",
   "execution_count": 12,
   "metadata": {
    "ExecuteTime": {
     "end_time": "2019-08-08T12:48:00.089007Z",
     "start_time": "2019-08-08T12:47:59.915037Z"
    }
   },
   "outputs": [
    {
     "name": "stdout",
     "output_type": "stream",
     "text": [
      "torch.Size([64, 64000]) torch.Size([64]) tensor([0, 0, 0, 9, 6, 2, 6, 4, 4, 6, 4, 4, 7, 5, 0, 3, 8, 2, 4, 3, 4, 9, 3, 0,\n",
      "        3, 5, 7, 7, 6, 0, 6, 3, 3, 4, 4, 8, 9, 0, 8, 4, 0, 0, 6, 3, 9, 6, 4, 3,\n",
      "        0, 7, 0, 7, 0, 9, 4, 6, 4, 7, 6, 4, 5, 1, 5, 4])\n",
      "tensor(-0.9651, dtype=torch.float64) tensor(0.9751, dtype=torch.float64)\n",
      "['bass' 'bass' 'bass' 'vocal' 'organ' 'flute' 'organ' 'keyboard'\n",
      " 'keyboard' 'organ' 'keyboard' 'keyboard' 'reed' 'mallet' 'bass' 'guitar'\n",
      " 'string' 'flute' 'keyboard' 'guitar' 'keyboard' 'vocal' 'guitar' 'bass'\n",
      " 'guitar' 'mallet' 'reed' 'reed' 'organ' 'bass' 'organ' 'guitar' 'guitar'\n",
      " 'keyboard' 'keyboard' 'string' 'vocal' 'bass' 'string' 'keyboard' 'bass'\n",
      " 'bass' 'organ' 'guitar' 'vocal' 'organ' 'keyboard' 'guitar' 'bass' 'reed'\n",
      " 'bass' 'reed' 'bass' 'vocal' 'keyboard' 'organ' 'keyboard' 'reed' 'organ'\n",
      " 'keyboard' 'mallet' 'brass' 'mallet' 'keyboard']\n",
      "torch.Size([64, 64000]) torch.Size([64]) tensor([0, 3, 6, 3, 3, 4, 2, 9, 0, 4, 8, 7, 5, 0, 3, 5, 4, 6, 4, 4, 7, 0, 0, 4,\n",
      "        0, 6, 4, 3, 8, 0, 1, 5, 3, 5, 2, 0, 7, 4, 9, 4, 5, 4, 7, 0, 6, 6, 4, 4,\n",
      "        5, 2, 4, 9, 4, 4, 6, 4, 3, 6, 3, 4, 4, 6, 8, 6])\n",
      "tensor(-0.9480, dtype=torch.float64) tensor(0.9493, dtype=torch.float64)\n",
      "['bass' 'guitar' 'organ' 'guitar' 'guitar' 'keyboard' 'flute' 'vocal'\n",
      " 'bass' 'keyboard' 'string' 'reed' 'mallet' 'bass' 'guitar' 'mallet'\n",
      " 'keyboard' 'organ' 'keyboard' 'keyboard' 'reed' 'bass' 'bass' 'keyboard'\n",
      " 'bass' 'organ' 'keyboard' 'guitar' 'string' 'bass' 'brass' 'mallet'\n",
      " 'guitar' 'mallet' 'flute' 'bass' 'reed' 'keyboard' 'vocal' 'keyboard'\n",
      " 'mallet' 'keyboard' 'reed' 'bass' 'organ' 'organ' 'keyboard' 'keyboard'\n",
      " 'mallet' 'flute' 'keyboard' 'vocal' 'keyboard' 'keyboard' 'organ'\n",
      " 'keyboard' 'guitar' 'organ' 'guitar' 'keyboard' 'keyboard' 'organ'\n",
      " 'string' 'organ']\n"
     ]
    }
   ],
   "source": [
    "# validation split is done here\n",
    "\n",
    "train_loader, validation_loader = get_dataloaders(trainDataset, \n",
    "                                                  batch_size = args.batch_size, \n",
    "                                                  validation_split = validation_split, \n",
    "                                                  shuffle_dataset = True, \n",
    "                                                  random_seed = None)\n",
    "\n",
    "for samples, instrument_family_target in train_loader:\n",
    "        print(samples.shape, instrument_family_target.shape,\n",
    "              instrument_family_target.data)\n",
    "        print(torch.min(samples), torch.max(samples))\n",
    "        print(trainDataset.transformInstrumentsFamilyToString(instrument_family_target.data))\n",
    "        break\n",
    "        \n",
    "for samples, instrument_family_target in validation_loader:\n",
    "        print(samples.shape, instrument_family_target.shape,\n",
    "              instrument_family_target.data)\n",
    "        print(torch.min(samples), torch.max(samples))\n",
    "        print(trainDataset.transformInstrumentsFamilyToString(instrument_family_target.data))\n",
    "        break"
   ]
  },
  {
   "cell_type": "code",
   "execution_count": 13,
   "metadata": {
    "ExecuteTime": {
     "end_time": "2019-08-08T12:48:00.093075Z",
     "start_time": "2019-08-08T12:48:00.090225Z"
    }
   },
   "outputs": [],
   "source": [
    "test_loader = data.DataLoader(testDataset, batch_size=args.batch_size, shuffle=False) #!!! shuffle should be false\n",
    "for samples in test_loader:\n",
    "        print(samples.shape)\n",
    "        print(torch.min(samples), torch.max(samples))\n",
    "        break"
   ]
  },
  {
   "cell_type": "markdown",
   "metadata": {},
   "source": [
    "### Main"
   ]
  },
  {
   "cell_type": "code",
   "execution_count": null,
   "metadata": {},
   "outputs": [],
   "source": [
    "# Main\n",
    "model = args.net(device).to(device)\n",
    "\n",
    "optimizer = optim.SGD(model.parameters(), lr=args.lr, \n",
    "                      momentum=args.momentum)\n",
    "\n",
    "info = {'lowest F1' : 100,\n",
    "        'saved epoch' : None}"
   ]
  },
  {
   "cell_type": "code",
   "execution_count": 14,
   "metadata": {
    "ExecuteTime": {
     "end_time": "2019-08-08T13:30:26.261425Z",
     "start_time": "2019-08-08T12:48:00.094187Z"
    }
   },
   "outputs": [
    {
     "name": "stdout",
     "output_type": "stream",
     "text": [
      "Train Epoch: 1 [0/269776 (0%)]\tLoss: 2.262139\tF1: 0.1250\tRuntime: 0.4\n",
      "Train Epoch: 1 [12800/269776 (6%)]\tLoss: 2.071094\tF1: 0.2812\tRuntime: 36.4\n",
      "Train Epoch: 1 [25600/269776 (12%)]\tLoss: 1.956254\tF1: 0.2969\tRuntime: 73.3\n",
      "Train Epoch: 1 [38400/269776 (18%)]\tLoss: 1.533787\tF1: 0.3594\tRuntime: 111.7\n",
      "Train Epoch: 1 [51200/269776 (24%)]\tLoss: 1.517673\tF1: 0.3906\tRuntime: 150.2\n",
      "Train Epoch: 1 [64000/269776 (30%)]\tLoss: 1.401508\tF1: 0.4375\tRuntime: 188.9\n",
      "Train Epoch: 1 [76800/269776 (36%)]\tLoss: 1.288415\tF1: 0.5312\tRuntime: 227.5\n",
      "Train Epoch: 1 [89600/269776 (42%)]\tLoss: 1.187410\tF1: 0.6094\tRuntime: 269.1\n",
      "Train Epoch: 1 [102400/269776 (47%)]\tLoss: 1.289615\tF1: 0.6094\tRuntime: 307.5\n",
      "Train Epoch: 1 [115200/269776 (53%)]\tLoss: 0.857002\tF1: 0.6406\tRuntime: 346.4\n",
      "Train Epoch: 1 [128000/269776 (59%)]\tLoss: 1.072261\tF1: 0.6719\tRuntime: 386.8\n",
      "Train Epoch: 1 [140800/269776 (65%)]\tLoss: 0.910911\tF1: 0.6406\tRuntime: 425.5\n",
      "Train Epoch: 1 [153600/269776 (71%)]\tLoss: 0.721228\tF1: 0.8125\tRuntime: 464.3\n",
      "Train Epoch: 1 [166400/269776 (77%)]\tLoss: 0.785861\tF1: 0.7188\tRuntime: 503.0\n",
      "Train Epoch: 1 [179200/269776 (83%)]\tLoss: 0.927945\tF1: 0.7188\tRuntime: 542.3\n",
      "Train Epoch: 1 [192000/269776 (89%)]\tLoss: 0.842316\tF1: 0.6719\tRuntime: 581.6\n",
      "Train Epoch: 1 [204800/269776 (95%)]\tLoss: 0.549496\tF1: 0.8125\tRuntime: 620.5\n",
      "after epoch 2 got f1 score of 0.7053403929699855\n",
      "saved predictions\n",
      "currently best model --> saved\n",
      "Train Epoch: 2 [0/269776 (0%)]\tLoss: 0.833549\tF1: 0.7031\tRuntime: 0.3\n",
      "Train Epoch: 2 [12800/269776 (6%)]\tLoss: 0.645166\tF1: 0.7344\tRuntime: 38.8\n",
      "Train Epoch: 2 [25600/269776 (12%)]\tLoss: 0.775636\tF1: 0.7500\tRuntime: 77.5\n",
      "Train Epoch: 2 [38400/269776 (18%)]\tLoss: 0.583468\tF1: 0.7500\tRuntime: 116.2\n",
      "Train Epoch: 2 [51200/269776 (24%)]\tLoss: 0.546952\tF1: 0.7500\tRuntime: 154.8\n",
      "Train Epoch: 2 [64000/269776 (30%)]\tLoss: 0.610172\tF1: 0.7344\tRuntime: 193.5\n",
      "Train Epoch: 2 [76800/269776 (36%)]\tLoss: 0.433870\tF1: 0.8125\tRuntime: 232.4\n",
      "Train Epoch: 2 [89600/269776 (42%)]\tLoss: 0.420038\tF1: 0.8594\tRuntime: 272.0\n",
      "Train Epoch: 2 [102400/269776 (47%)]\tLoss: 0.435318\tF1: 0.7969\tRuntime: 311.5\n",
      "Train Epoch: 2 [115200/269776 (53%)]\tLoss: 0.717401\tF1: 0.6875\tRuntime: 350.8\n",
      "Train Epoch: 2 [128000/269776 (59%)]\tLoss: 0.347858\tF1: 0.8594\tRuntime: 390.0\n",
      "Train Epoch: 2 [140800/269776 (65%)]\tLoss: 0.427390\tF1: 0.8438\tRuntime: 429.3\n",
      "Train Epoch: 2 [153600/269776 (71%)]\tLoss: 0.484727\tF1: 0.8125\tRuntime: 469.1\n",
      "Train Epoch: 2 [166400/269776 (77%)]\tLoss: 0.354089\tF1: 0.8750\tRuntime: 509.2\n",
      "Train Epoch: 2 [179200/269776 (83%)]\tLoss: 0.587114\tF1: 0.7812\tRuntime: 549.0\n",
      "Train Epoch: 2 [192000/269776 (89%)]\tLoss: 0.458888\tF1: 0.8438\tRuntime: 589.3\n",
      "Train Epoch: 2 [204800/269776 (95%)]\tLoss: 0.283411\tF1: 0.9219\tRuntime: 629.9\n",
      "after epoch 3 got f1 score of 0.8042493582148525\n",
      "Train Epoch: 3 [0/269776 (0%)]\tLoss: 0.453508\tF1: 0.8125\tRuntime: 0.3\n",
      "Train Epoch: 3 [12800/269776 (6%)]\tLoss: 0.293555\tF1: 0.8906\tRuntime: 39.2\n",
      "Train Epoch: 3 [25600/269776 (12%)]\tLoss: 0.236933\tF1: 0.9062\tRuntime: 78.7\n",
      "Train Epoch: 3 [38400/269776 (18%)]\tLoss: 0.299565\tF1: 0.8594\tRuntime: 117.9\n",
      "Train Epoch: 3 [51200/269776 (24%)]\tLoss: 0.334080\tF1: 0.8750\tRuntime: 157.1\n",
      "Train Epoch: 3 [64000/269776 (30%)]\tLoss: 0.371714\tF1: 0.8281\tRuntime: 195.7\n",
      "Train Epoch: 3 [76800/269776 (36%)]\tLoss: 0.441006\tF1: 0.9062\tRuntime: 234.7\n",
      "Train Epoch: 3 [89600/269776 (42%)]\tLoss: 0.419506\tF1: 0.8594\tRuntime: 273.5\n",
      "Train Epoch: 3 [102400/269776 (47%)]\tLoss: 0.303910\tF1: 0.9375\tRuntime: 312.5\n",
      "Train Epoch: 3 [115200/269776 (53%)]\tLoss: 0.227914\tF1: 0.9375\tRuntime: 352.0\n",
      "Train Epoch: 3 [128000/269776 (59%)]\tLoss: 0.252605\tF1: 0.9219\tRuntime: 391.5\n",
      "Train Epoch: 3 [140800/269776 (65%)]\tLoss: 0.391707\tF1: 0.8906\tRuntime: 431.4\n",
      "Train Epoch: 3 [153600/269776 (71%)]\tLoss: 0.195052\tF1: 0.9375\tRuntime: 471.1\n",
      "Train Epoch: 3 [166400/269776 (77%)]\tLoss: 0.254160\tF1: 0.9062\tRuntime: 510.6\n",
      "Train Epoch: 3 [179200/269776 (83%)]\tLoss: 0.190110\tF1: 0.8750\tRuntime: 551.5\n",
      "Train Epoch: 3 [192000/269776 (89%)]\tLoss: 0.150221\tF1: 0.9219\tRuntime: 591.7\n",
      "Train Epoch: 3 [204800/269776 (95%)]\tLoss: 0.158211\tF1: 0.9531\tRuntime: 632.4\n",
      "after epoch 4 got f1 score of 0.9078791469194214\n"
     ]
    }
   ],
   "source": [
    "for epoch in range(1, args.epochs + 1):\n",
    "    train(args, model, device, train_loader, optimizer, epoch, start_time = time.time())\n",
    "    f1 = get_mean_F1(model, validation_loader)\n",
    "    print('after epoch {} got f1 score of {}'.format(epoch , f1))\n",
    "    if f1 < info['lowest F1']:\n",
    "        info['lowest F1'] = f1\n",
    "        info['saved epoch'] = epoch \n",
    "        test(args, model, device, test_loader, epoch, trainDataset, testDataset, path_submission)\n",
    "        torch.save(model, path_model)\n",
    "        print('currently best model --> saved')"
   ]
  },
  {
   "cell_type": "code",
   "execution_count": null,
   "metadata": {},
   "outputs": [],
   "source": []
  }
 ],
 "metadata": {
  "kernelspec": {
   "display_name": "Python 3",
   "language": "python",
   "name": "python3"
  },
  "language_info": {
   "codemirror_mode": {
    "name": "ipython",
    "version": 3
   },
   "file_extension": ".py",
   "mimetype": "text/x-python",
   "name": "python",
   "nbconvert_exporter": "python",
   "pygments_lexer": "ipython3",
   "version": "3.7.3"
  },
  "toc": {
   "base_numbering": 1,
   "nav_menu": {},
   "number_sections": true,
   "sideBar": true,
   "skip_h1_title": false,
   "title_cell": "Table of Contents",
   "title_sidebar": "Contents",
   "toc_cell": false,
   "toc_position": {},
   "toc_section_display": true,
   "toc_window_display": false
  },
  "varInspector": {
   "cols": {
    "lenName": 16,
    "lenType": 16,
    "lenVar": 40
   },
   "kernels_config": {
    "python": {
     "delete_cmd_postfix": "",
     "delete_cmd_prefix": "del ",
     "library": "var_list.py",
     "varRefreshCmd": "print(var_dic_list())"
    },
    "r": {
     "delete_cmd_postfix": ") ",
     "delete_cmd_prefix": "rm(",
     "library": "var_list.r",
     "varRefreshCmd": "cat(var_dic_list()) "
    }
   },
   "types_to_exclude": [
    "module",
    "function",
    "builtin_function_or_method",
    "instance",
    "_Feature"
   ],
   "window_display": false
  }
 },
 "nbformat": 4,
 "nbformat_minor": 2
}
