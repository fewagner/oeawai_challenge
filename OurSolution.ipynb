{
 "cells": [
  {
   "cell_type": "markdown",
   "metadata": {},
   "source": [
    "### Imports"
   ]
  },
  {
   "cell_type": "code",
   "execution_count": 1,
   "metadata": {
    "ExecuteTime": {
     "end_time": "2019-08-11T22:56:31.874679Z",
     "start_time": "2019-08-11T22:56:30.921976Z"
    }
   },
   "outputs": [],
   "source": [
    "import torch\n",
    "import torch.nn as nn\n",
    "import torch.nn.functional as F\n",
    "import numpy as np\n",
    "import torchvision.transforms as transforms\n",
    "import torch.utils.data as data\n",
    "import matplotlib.pyplot as plt\n",
    "import IPython.display\n",
    "from IPython.display import Audio\n",
    "import torch.optim as optim\n",
    "from types import SimpleNamespace\n",
    "import scipy.signal as sc\n",
    "import time\n",
    "from sklearn.metrics import f1_score\n",
    "import pickle\n",
    "\n",
    "from trainDataset import TrainDataset\n",
    "from testDataset import TestDataset\n",
    "#from trainDatasetNew import TrainDatasetNew\n",
    "#from testDatasetNew import TestDatasetNew\n",
    "from validation_split import get_dataloaders\n",
    "from math_utils import logMagStft, ffts\n",
    "from SpectrogramCNN import SpectrogramCNN\n",
    "from train_utils import train, test, save_output, save_geometric_mean_predictions\n",
    "from evaluation_utils import get_mean_F1\n",
    "from MulitScale1DResNet import MSResNet\n",
    "from LSTM import LSTM\n",
    "from FFTMulitScale1DResNet import FFTMSResNet\n",
    "from SpectralResNet import SpectralResNet34\n",
    "from scipy.signal import hilbert\n",
    "from FeatureFNN import FeatureFNN\n",
    "from MelRawCombined import CNN1D, CNN2D"
   ]
  },
  {
   "cell_type": "markdown",
   "metadata": {},
   "source": [
    "### Parameters"
   ]
  },
  {
   "cell_type": "code",
   "execution_count": 2,
   "metadata": {
    "ExecuteTime": {
     "end_time": "2019-08-11T22:56:31.915509Z",
     "start_time": "2019-08-11T22:56:31.876309Z"
    }
   },
   "outputs": [
    {
     "name": "stdout",
     "output_type": "stream",
     "text": [
      "with cuda\n"
     ]
    }
   ],
   "source": [
    "validation_split = .2\n",
    "do_plots = False\n",
    "load_model = False\n",
    "args = SimpleNamespace(batch_size=32, test_batch_size=32, epochs=7,\n",
    "                       lr=0.01, momentum=0.5, seed=1, log_interval=200, \n",
    "                      net = CNN1D) #SpectrogramCNN, MSResNet, SpectralResNet34, FFTMSResNet, FeatureFNN, CNN1D, CNN2D \n",
    "\n",
    "device = torch.device(\"cuda\" if torch.cuda.is_available() else \"cpu\")\n",
    "\n",
    "if not torch.cuda.is_available(): # adapt those paths on other machine\n",
    "    print('no cuda')\n",
    "    path_train = './../data/train-small/'\n",
    "    path_test =  './../data/test/kaggle-test/'\n",
    "else:\n",
    "    print('with cuda')\n",
    "    path_train = './../data/kaggle-train/'\n",
    "    path_test =  './../data/kaggle-test/'\n",
    "    \n",
    "path_model = 'models/model.pt'\n",
    "path_submission = 'submissions/'\n",
    "    \n",
    "sample_rate = 16000\n",
    "nmbr_classes = 10"
   ]
  },
  {
   "cell_type": "markdown",
   "metadata": {},
   "source": [
    "### Original Dataset"
   ]
  },
  {
   "cell_type": "code",
   "execution_count": 3,
   "metadata": {
    "ExecuteTime": {
     "end_time": "2019-08-11T22:56:33.158625Z",
     "start_time": "2019-08-11T22:56:31.916940Z"
    }
   },
   "outputs": [
    {
     "name": "stdout",
     "output_type": "stream",
     "text": [
      "269776\n",
      "4096\n"
     ]
    }
   ],
   "source": [
    "# todo add in the classes the features and the fft data\n",
    "\n",
    "toFloat = transforms.Lambda(lambda x: x / np.iinfo(np.int16).max)\n",
    "\n",
    "trainDataset = TrainDataset(path_train, transform=toFloat)\n",
    "print(len(trainDataset))\n",
    "\n",
    "testDataset = TestDataset(path_test, transform=toFloat)\n",
    "print(len(testDataset))"
   ]
  },
  {
   "cell_type": "code",
   "execution_count": 4,
   "metadata": {
    "ExecuteTime": {
     "end_time": "2019-08-11T22:56:33.208797Z",
     "start_time": "2019-08-11T22:56:33.160132Z"
    }
   },
   "outputs": [
    {
     "name": "stdout",
     "output_type": "stream",
     "text": [
      "input size:  64000\n"
     ]
    }
   ],
   "source": [
    "input_size = len(trainDataset[0][0])\n",
    "print('input size: ',input_size)"
   ]
  },
  {
   "cell_type": "markdown",
   "metadata": {
    "heading_collapsed": true
   },
   "source": [
    "### Look at Original Data"
   ]
  },
  {
   "cell_type": "code",
   "execution_count": 5,
   "metadata": {
    "ExecuteTime": {
     "end_time": "2019-08-11T22:56:33.214913Z",
     "start_time": "2019-08-11T22:56:33.211311Z"
    },
    "hidden": true
   },
   "outputs": [],
   "source": [
    "if do_plots:\n",
    "    # how many instruments are there?\n",
    "    dummy_count = np.zeros(20)\n",
    "\n",
    "    for sample in trainDataset:\n",
    "        dummy_count[sample[1]] += 1\n",
    "\n",
    "    labels_count = []\n",
    "    for elem in dummy_count:\n",
    "        if elem != 0:\n",
    "            labels_count.append(elem)\n",
    "\n",
    "    print(labels_count)"
   ]
  },
  {
   "cell_type": "code",
   "execution_count": 6,
   "metadata": {
    "ExecuteTime": {
     "end_time": "2019-08-11T22:56:33.218362Z",
     "start_time": "2019-08-11T22:56:33.216387Z"
    },
    "hidden": true
   },
   "outputs": [],
   "source": [
    "if do_plots:\n",
    "    nmbr_classes = len(labels_count)\n",
    "    print('nmbr_classes: ', nmbr_classes)"
   ]
  },
  {
   "cell_type": "code",
   "execution_count": 7,
   "metadata": {
    "ExecuteTime": {
     "end_time": "2019-08-11T22:56:33.222203Z",
     "start_time": "2019-08-11T22:56:33.219796Z"
    },
    "hidden": true
   },
   "outputs": [],
   "source": [
    "if do_plots:\n",
    "    plt.plot(labels_count, '*')"
   ]
  },
  {
   "cell_type": "code",
   "execution_count": 8,
   "metadata": {
    "ExecuteTime": {
     "end_time": "2019-08-11T22:56:33.227612Z",
     "start_time": "2019-08-11T22:56:33.224544Z"
    },
    "hidden": true
   },
   "outputs": [],
   "source": [
    "if do_plots:\n",
    "    # plot one of each\n",
    "\n",
    "    done = np.zeros(nmbr_classes)\n",
    "    examples = []\n",
    "\n",
    "    for sample in trainDataset:\n",
    "        if done[sample[1]] == 0:\n",
    "            examples.append(sample)\n",
    "            done[sample[1]] = 1"
   ]
  },
  {
   "cell_type": "code",
   "execution_count": 9,
   "metadata": {
    "ExecuteTime": {
     "end_time": "2019-08-11T22:56:33.231488Z",
     "start_time": "2019-08-11T22:56:33.229301Z"
    },
    "hidden": true
   },
   "outputs": [],
   "source": [
    "plt.rcParams[\"figure.figsize\"] = (20,10)"
   ]
  },
  {
   "cell_type": "code",
   "execution_count": 10,
   "metadata": {
    "ExecuteTime": {
     "end_time": "2019-08-11T22:56:33.235099Z",
     "start_time": "2019-08-11T22:56:33.232539Z"
    },
    "hidden": true
   },
   "outputs": [],
   "source": [
    "#time series\n",
    "\n",
    "if do_plots:\n",
    "\n",
    "    for i in range(len(examples)):\n",
    "        plt.subplot(4,3,i+1)\n",
    "        plt.plot(examples[i][0])"
   ]
  },
  {
   "cell_type": "code",
   "execution_count": 11,
   "metadata": {
    "ExecuteTime": {
     "end_time": "2019-08-11T22:56:33.241371Z",
     "start_time": "2019-08-11T22:56:33.236648Z"
    },
    "hidden": true
   },
   "outputs": [],
   "source": [
    "#envelope\n",
    "\n",
    "if do_plots:\n",
    "    \n",
    "    m = nn.MaxPool1d(50)\n",
    "\n",
    "    for i in range(len(examples)):\n",
    "        plt.subplot(4,3,i+1)\n",
    "        env = torch.from_numpy(np.abs(hilbert(examples[i][0]))).view(1,1,-1)\n",
    "        env = m(env)\n",
    "        plt.plot(env[0,0].numpy())\n",
    "        \n",
    "    plt.show()"
   ]
  },
  {
   "cell_type": "code",
   "execution_count": 12,
   "metadata": {
    "ExecuteTime": {
     "end_time": "2019-08-11T22:56:33.249777Z",
     "start_time": "2019-08-11T22:56:33.243289Z"
    },
    "hidden": true
   },
   "outputs": [],
   "source": [
    "# fft\n",
    "\n",
    "if do_plots:\n",
    "\n",
    "    m = nn.MaxPool1d(50)\n",
    "\n",
    "    for i in range(len(examples)):\n",
    "        plt.subplot(4,3,i+1)\n",
    "        fft = torch.from_numpy(ffts(examples[i][0])).view(1,1,-1)\n",
    "        fft = m(fft)\n",
    "        plt.plot(fft[0,0].numpy())\n",
    "        \n",
    "    plt.show()"
   ]
  },
  {
   "cell_type": "code",
   "execution_count": 13,
   "metadata": {
    "ExecuteTime": {
     "end_time": "2019-08-11T22:56:33.256519Z",
     "start_time": "2019-08-11T22:56:33.252078Z"
    },
    "hidden": true
   },
   "outputs": [],
   "source": [
    "# melspec\n",
    "\n",
    "if do_plots:\n",
    "    n_fft = 510\n",
    "    for i in range(len(examples)):\n",
    "        plt.subplot(4,3,i+1)\n",
    "        spectrogram = logMagStft(examples[i][0], 16000, n_fft)\n",
    "        plt.imshow(spectrogram)\n",
    "        \n",
    "    plt.show()"
   ]
  },
  {
   "cell_type": "code",
   "execution_count": 14,
   "metadata": {
    "ExecuteTime": {
     "end_time": "2019-08-11T22:56:33.260841Z",
     "start_time": "2019-08-11T22:56:33.258066Z"
    },
    "hidden": true
   },
   "outputs": [],
   "source": [
    "if do_plots:\n",
    "\n",
    "    for sample in examples:\n",
    "        display(Audio(sample[0], rate=sample_rate))"
   ]
  },
  {
   "cell_type": "markdown",
   "metadata": {},
   "source": [
    "### Dataloaders"
   ]
  },
  {
   "cell_type": "code",
   "execution_count": 15,
   "metadata": {
    "ExecuteTime": {
     "end_time": "2019-08-11T22:56:33.390127Z",
     "start_time": "2019-08-11T22:56:33.262169Z"
    }
   },
   "outputs": [
    {
     "name": "stdout",
     "output_type": "stream",
     "text": [
      "torch.Size([32, 64000]) torch.Size([32]) tensor([0, 4, 3, 0, 4, 6, 0, 6, 5, 3, 3, 0, 5, 3, 8, 6, 4, 0, 9, 3, 0, 0, 0, 4,\n",
      "        0, 2, 8, 1, 0, 6, 0, 5])\n",
      "tensor(-0.9539, dtype=torch.float64) tensor(0.9462, dtype=torch.float64)\n",
      "['bass' 'keyboard' 'guitar' 'bass' 'keyboard' 'organ' 'bass' 'organ'\n",
      " 'mallet' 'guitar' 'guitar' 'bass' 'mallet' 'guitar' 'string' 'organ'\n",
      " 'keyboard' 'bass' 'vocal' 'guitar' 'bass' 'bass' 'bass' 'keyboard' 'bass'\n",
      " 'flute' 'string' 'brass' 'bass' 'organ' 'bass' 'mallet']\n",
      "torch.Size([32, 64000]) torch.Size([32]) tensor([5, 3, 0, 6, 5, 3, 4, 1, 0, 0, 3, 1, 6, 0, 1, 0, 4, 8, 8, 9, 6, 8, 6, 5,\n",
      "        5, 6, 0, 2, 3, 0, 0, 4])\n",
      "tensor(-0.9484, dtype=torch.float64) tensor(0.9467, dtype=torch.float64)\n",
      "['mallet' 'guitar' 'bass' 'organ' 'mallet' 'guitar' 'keyboard' 'brass'\n",
      " 'bass' 'bass' 'guitar' 'brass' 'organ' 'bass' 'brass' 'bass' 'keyboard'\n",
      " 'string' 'string' 'vocal' 'organ' 'string' 'organ' 'mallet' 'mallet'\n",
      " 'organ' 'bass' 'flute' 'guitar' 'bass' 'bass' 'keyboard']\n"
     ]
    }
   ],
   "source": [
    "# validation split is done here\n",
    "\n",
    "train_loader, validation_loader, indices = get_dataloaders(trainDataset, \n",
    "                                                  batch_size = args.batch_size, \n",
    "                                                  validation_split = validation_split, \n",
    "                                                  shuffle_dataset = True, \n",
    "                                                  random_seed = None)\n",
    "                                                    #indices = indices)\n",
    "\n",
    "for samples, instrument_family_target in train_loader:\n",
    "        print(samples.shape, instrument_family_target.shape,\n",
    "              instrument_family_target.data)\n",
    "        print(torch.min(samples), torch.max(samples))\n",
    "        print(trainDataset.transformInstrumentsFamilyToString(instrument_family_target.data))\n",
    "        break\n",
    "        \n",
    "for samples, instrument_family_target in validation_loader:\n",
    "        print(samples.shape, instrument_family_target.shape,\n",
    "              instrument_family_target.data)\n",
    "        print(torch.min(samples), torch.max(samples))\n",
    "        print(trainDataset.transformInstrumentsFamilyToString(instrument_family_target.data))\n",
    "        break"
   ]
  },
  {
   "cell_type": "code",
   "execution_count": 16,
   "metadata": {
    "ExecuteTime": {
     "end_time": "2019-08-11T22:56:33.416733Z",
     "start_time": "2019-08-11T22:56:33.393401Z"
    }
   },
   "outputs": [],
   "source": [
    "# save indices\n",
    "with open(path_submission + \"indices.txt\", \"wb\") as fp:\n",
    "    pickle.dump([indices], fp)"
   ]
  },
  {
   "cell_type": "code",
   "execution_count": 17,
   "metadata": {
    "ExecuteTime": {
     "end_time": "2019-08-11T22:56:33.461882Z",
     "start_time": "2019-08-11T22:56:33.418133Z"
    }
   },
   "outputs": [
    {
     "name": "stdout",
     "output_type": "stream",
     "text": [
      "torch.Size([32, 64000])\n",
      "tensor(-0.9471, dtype=torch.float64) tensor(0.9469, dtype=torch.float64)\n"
     ]
    }
   ],
   "source": [
    "test_loader = data.DataLoader(testDataset, batch_size=args.batch_size, shuffle=False) #!!! shuffle should be false\n",
    "for samples in test_loader:\n",
    "        print(samples[0].shape)\n",
    "        print(torch.min(samples[0]), torch.max(samples[0]))\n",
    "        break"
   ]
  },
  {
   "cell_type": "markdown",
   "metadata": {},
   "source": [
    "### Main"
   ]
  },
  {
   "cell_type": "code",
   "execution_count": 18,
   "metadata": {
    "ExecuteTime": {
     "end_time": "2019-08-11T22:56:35.749419Z",
     "start_time": "2019-08-11T22:56:33.463254Z"
    }
   },
   "outputs": [],
   "source": [
    "if (args.net == SpectrogramCNN) or (args.net == SpectralResNet34) \\\n",
    "    or (args.net == FeatureFNN) or (args.net == CNN1D) \\\n",
    "    or (args.net == CNN2D):\n",
    "    model = args.net(device).to(device)"
   ]
  },
  {
   "cell_type": "code",
   "execution_count": 19,
   "metadata": {
    "ExecuteTime": {
     "end_time": "2019-08-11T22:56:35.754135Z",
     "start_time": "2019-08-11T22:56:35.751369Z"
    }
   },
   "outputs": [],
   "source": [
    "if (args.net == MSResNet) or (args.net == FFTMSResNet):\n",
    "    model = args.net(1, device).to(device)"
   ]
  },
  {
   "cell_type": "code",
   "execution_count": 20,
   "metadata": {
    "ExecuteTime": {
     "end_time": "2019-08-11T22:56:35.758051Z",
     "start_time": "2019-08-11T22:56:35.755523Z"
    }
   },
   "outputs": [],
   "source": [
    "if args.net == LSTM:\n",
    "    model = args.net(device, input_size = 252, hidden_size = 512, num_layers = 1, num_classes = 10).to(device)"
   ]
  },
  {
   "cell_type": "code",
   "execution_count": 21,
   "metadata": {
    "ExecuteTime": {
     "end_time": "2019-08-11T22:56:35.762100Z",
     "start_time": "2019-08-11T22:56:35.759468Z"
    }
   },
   "outputs": [
    {
     "name": "stdout",
     "output_type": "stream",
     "text": [
      "CNN1D(\n",
      "  (conv_1): Sequential(\n",
      "    (0): Conv1d(1, 16, kernel_size=(9,), stride=(1,))\n",
      "    (1): ReLU()\n",
      "    (2): Conv1d(16, 16, kernel_size=(9,), stride=(1,))\n",
      "    (3): ReLU()\n",
      "    (4): MaxPool1d(kernel_size=16, stride=16, padding=0, dilation=1, ceil_mode=False)\n",
      "    (5): Dropout(p=0.1)\n",
      "  )\n",
      "  (conv_2): Sequential(\n",
      "    (0): Conv1d(16, 32, kernel_size=(3,), stride=(1,))\n",
      "    (1): ReLU()\n",
      "    (2): Conv1d(32, 32, kernel_size=(3,), stride=(1,))\n",
      "    (3): ReLU()\n",
      "    (4): MaxPool1d(kernel_size=4, stride=4, padding=0, dilation=1, ceil_mode=False)\n",
      "    (5): Dropout(p=0.1)\n",
      "  )\n",
      "  (conv_3): Sequential(\n",
      "    (0): Conv1d(32, 32, kernel_size=(3,), stride=(1,))\n",
      "    (1): ReLU()\n",
      "    (2): Conv1d(32, 32, kernel_size=(3,), stride=(1,))\n",
      "    (3): ReLU()\n",
      "    (4): MaxPool1d(kernel_size=4, stride=4, padding=0, dilation=1, ceil_mode=False)\n",
      "    (5): Dropout(p=0.1)\n",
      "  )\n",
      "  (conv_4): Sequential(\n",
      "    (0): Conv1d(32, 256, kernel_size=(3,), stride=(1,))\n",
      "    (1): ReLU()\n",
      "    (2): Conv1d(256, 256, kernel_size=(3,), stride=(1,))\n",
      "    (3): ReLU()\n",
      "    (4): MaxPool1d(kernel_size=244, stride=244, padding=0, dilation=1, ceil_mode=False)\n",
      "    (5): Dropout(p=0.2)\n",
      "  )\n",
      "  (fc1): Linear(in_features=256, out_features=64, bias=True)\n",
      "  (fc2): Linear(in_features=64, out_features=1028, bias=True)\n",
      "  (out): Linear(in_features=1028, out_features=10, bias=True)\n",
      ")\n"
     ]
    }
   ],
   "source": [
    "print(model)"
   ]
  },
  {
   "cell_type": "code",
   "execution_count": 22,
   "metadata": {
    "ExecuteTime": {
     "end_time": "2019-08-11T22:56:35.765697Z",
     "start_time": "2019-08-11T22:56:35.763354Z"
    }
   },
   "outputs": [],
   "source": [
    "# Main\n",
    "optimizer = optim.Adam(model.parameters(), lr=args.lr)\n",
    "\n",
    "info = {'highest F1' : 0,\n",
    "        'saved epoch' : None}"
   ]
  },
  {
   "cell_type": "code",
   "execution_count": null,
   "metadata": {
    "ExecuteTime": {
     "start_time": "2019-08-11T22:56:30.988Z"
    }
   },
   "outputs": [
    {
     "name": "stdout",
     "output_type": "stream",
     "text": [
      "Train Epoch: 1 [0/269776 (0%)]\tLoss: 2.321663\tF1: 0.0000\tRuntime: 0.3\n",
      "Train Epoch: 1 [6400/269776 (3%)]\tLoss: 1.984412\tF1: 0.3438\tRuntime: 9.6\n",
      "Train Epoch: 1 [12800/269776 (6%)]\tLoss: 2.081220\tF1: 0.2812\tRuntime: 18.7\n",
      "Train Epoch: 1 [19200/269776 (9%)]\tLoss: 1.903527\tF1: 0.3125\tRuntime: 27.8\n",
      "Train Epoch: 1 [25600/269776 (12%)]\tLoss: 2.110596\tF1: 0.2188\tRuntime: 36.9\n",
      "Train Epoch: 1 [32000/269776 (15%)]\tLoss: 1.859639\tF1: 0.3438\tRuntime: 45.9\n",
      "Train Epoch: 1 [38400/269776 (18%)]\tLoss: 1.776582\tF1: 0.2812\tRuntime: 55.1\n",
      "Train Epoch: 1 [44800/269776 (21%)]\tLoss: 1.726350\tF1: 0.3438\tRuntime: 64.2\n",
      "Train Epoch: 1 [51200/269776 (24%)]\tLoss: 1.854845\tF1: 0.3125\tRuntime: 73.3\n",
      "Train Epoch: 1 [57600/269776 (27%)]\tLoss: 1.985910\tF1: 0.2188\tRuntime: 82.4\n",
      "Train Epoch: 1 [64000/269776 (30%)]\tLoss: 1.507452\tF1: 0.4062\tRuntime: 91.5\n",
      "Train Epoch: 1 [70400/269776 (33%)]\tLoss: 1.722697\tF1: 0.3438\tRuntime: 100.6\n",
      "Train Epoch: 1 [76800/269776 (36%)]\tLoss: 1.787019\tF1: 0.3125\tRuntime: 109.6\n",
      "Train Epoch: 1 [83200/269776 (39%)]\tLoss: 1.828619\tF1: 0.3125\tRuntime: 118.7\n",
      "Train Epoch: 1 [89600/269776 (42%)]\tLoss: 1.616975\tF1: 0.3125\tRuntime: 127.8\n",
      "Train Epoch: 1 [96000/269776 (44%)]\tLoss: 1.639715\tF1: 0.2812\tRuntime: 136.9\n",
      "Train Epoch: 1 [102400/269776 (47%)]\tLoss: 1.958372\tF1: 0.1875\tRuntime: 146.0\n",
      "Train Epoch: 1 [108800/269776 (50%)]\tLoss: 1.687198\tF1: 0.4062\tRuntime: 155.1\n",
      "Train Epoch: 1 [115200/269776 (53%)]\tLoss: 1.732774\tF1: 0.5000\tRuntime: 164.2\n",
      "Train Epoch: 1 [121600/269776 (56%)]\tLoss: 1.682405\tF1: 0.2188\tRuntime: 173.3\n",
      "Train Epoch: 1 [128000/269776 (59%)]\tLoss: 1.755935\tF1: 0.2812\tRuntime: 182.4\n",
      "Train Epoch: 1 [134400/269776 (62%)]\tLoss: 1.713408\tF1: 0.3125\tRuntime: 191.5\n",
      "Train Epoch: 1 [140800/269776 (65%)]\tLoss: 1.943687\tF1: 0.3438\tRuntime: 200.7\n",
      "Train Epoch: 1 [147200/269776 (68%)]\tLoss: 1.782095\tF1: 0.3438\tRuntime: 209.8\n",
      "Train Epoch: 1 [153600/269776 (71%)]\tLoss: 1.570551\tF1: 0.4062\tRuntime: 218.9\n",
      "Train Epoch: 1 [160000/269776 (74%)]\tLoss: 1.676887\tF1: 0.3125\tRuntime: 228.0\n",
      "Train Epoch: 1 [166400/269776 (77%)]\tLoss: 1.795758\tF1: 0.3438\tRuntime: 237.1\n",
      "Train Epoch: 1 [172800/269776 (80%)]\tLoss: 1.643133\tF1: 0.2188\tRuntime: 246.3\n",
      "Train Epoch: 1 [179200/269776 (83%)]\tLoss: 1.792549\tF1: 0.3125\tRuntime: 255.4\n",
      "Train Epoch: 1 [185600/269776 (86%)]\tLoss: 1.673790\tF1: 0.3750\tRuntime: 264.5\n",
      "Train Epoch: 1 [192000/269776 (89%)]\tLoss: 1.893727\tF1: 0.3125\tRuntime: 273.6\n",
      "Train Epoch: 1 [198400/269776 (92%)]\tLoss: 1.980248\tF1: 0.3125\tRuntime: 282.9\n",
      "Train Epoch: 1 [204800/269776 (95%)]\tLoss: 1.844654\tF1: 0.3125\tRuntime: 292.1\n",
      "Train Epoch: 1 [211200/269776 (98%)]\tLoss: 2.022701\tF1: 0.1875\tRuntime: 301.2\n",
      "after epoch 1 got f1 score of 0.25355660936573715\n",
      "saved predictions\n",
      "currently best model --> saved\n",
      "Train Epoch: 2 [0/269776 (0%)]\tLoss: 1.876134\tF1: 0.5000\tRuntime: 0.1\n",
      "Train Epoch: 2 [6400/269776 (3%)]\tLoss: 1.661371\tF1: 0.3750\tRuntime: 9.2\n",
      "Train Epoch: 2 [12800/269776 (6%)]\tLoss: 1.787522\tF1: 0.3438\tRuntime: 18.3\n",
      "Train Epoch: 2 [19200/269776 (9%)]\tLoss: 1.826760\tF1: 0.2188\tRuntime: 27.4\n",
      "Train Epoch: 2 [25600/269776 (12%)]\tLoss: 1.497564\tF1: 0.4688\tRuntime: 36.5\n",
      "Train Epoch: 2 [32000/269776 (15%)]\tLoss: 1.564241\tF1: 0.4062\tRuntime: 45.5\n",
      "Train Epoch: 2 [38400/269776 (18%)]\tLoss: 1.698925\tF1: 0.3438\tRuntime: 54.6\n",
      "Train Epoch: 2 [44800/269776 (21%)]\tLoss: 2.226796\tF1: 0.0938\tRuntime: 63.7\n",
      "Train Epoch: 2 [51200/269776 (24%)]\tLoss: 2.038062\tF1: 0.2812\tRuntime: 72.8\n",
      "Train Epoch: 2 [57600/269776 (27%)]\tLoss: 2.166853\tF1: 0.2500\tRuntime: 81.9\n",
      "Train Epoch: 2 [64000/269776 (30%)]\tLoss: 1.721086\tF1: 0.3750\tRuntime: 91.0\n",
      "Train Epoch: 2 [70400/269776 (33%)]\tLoss: 1.897979\tF1: 0.3125\tRuntime: 100.1\n",
      "Train Epoch: 2 [76800/269776 (36%)]\tLoss: 1.675963\tF1: 0.4688\tRuntime: 109.2\n",
      "Train Epoch: 2 [83200/269776 (39%)]\tLoss: 2.052582\tF1: 0.2812\tRuntime: 118.3\n",
      "Train Epoch: 2 [89600/269776 (42%)]\tLoss: 2.156262\tF1: 0.1250\tRuntime: 127.4\n",
      "Train Epoch: 2 [96000/269776 (44%)]\tLoss: 2.012099\tF1: 0.3125\tRuntime: 136.6\n",
      "Train Epoch: 2 [102400/269776 (47%)]\tLoss: 1.994988\tF1: 0.2500\tRuntime: 145.7\n",
      "Train Epoch: 2 [108800/269776 (50%)]\tLoss: 1.911512\tF1: 0.4062\tRuntime: 154.8\n",
      "Train Epoch: 2 [115200/269776 (53%)]\tLoss: 2.109917\tF1: 0.3125\tRuntime: 163.9\n",
      "Train Epoch: 2 [121600/269776 (56%)]\tLoss: 2.043921\tF1: 0.2500\tRuntime: 173.0\n",
      "Train Epoch: 2 [128000/269776 (59%)]\tLoss: 2.248800\tF1: 0.1875\tRuntime: 182.3\n",
      "Train Epoch: 2 [134400/269776 (62%)]\tLoss: 2.074570\tF1: 0.2188\tRuntime: 191.6\n",
      "Train Epoch: 2 [140800/269776 (65%)]\tLoss: 1.902554\tF1: 0.1875\tRuntime: 200.7\n",
      "Train Epoch: 2 [147200/269776 (68%)]\tLoss: 2.151970\tF1: 0.2812\tRuntime: 210.2\n",
      "Train Epoch: 2 [153600/269776 (71%)]\tLoss: 2.106830\tF1: 0.2812\tRuntime: 219.6\n",
      "Train Epoch: 2 [160000/269776 (74%)]\tLoss: 1.913599\tF1: 0.4375\tRuntime: 229.6\n",
      "Train Epoch: 2 [166400/269776 (77%)]\tLoss: 2.154133\tF1: 0.1250\tRuntime: 239.0\n",
      "Train Epoch: 2 [172800/269776 (80%)]\tLoss: 2.097571\tF1: 0.1875\tRuntime: 248.6\n",
      "Train Epoch: 2 [179200/269776 (83%)]\tLoss: 2.027967\tF1: 0.2812\tRuntime: 258.1\n",
      "Train Epoch: 2 [185600/269776 (86%)]\tLoss: 2.177381\tF1: 0.1562\tRuntime: 267.2\n",
      "Train Epoch: 2 [192000/269776 (89%)]\tLoss: 2.257824\tF1: 0.0938\tRuntime: 276.6\n",
      "Train Epoch: 2 [198400/269776 (92%)]\tLoss: 2.191107\tF1: 0.1875\tRuntime: 285.9\n",
      "Train Epoch: 2 [204800/269776 (95%)]\tLoss: 2.145070\tF1: 0.3438\tRuntime: 295.1\n",
      "Train Epoch: 2 [211200/269776 (98%)]\tLoss: 1.982477\tF1: 0.2500\tRuntime: 304.2\n"
     ]
    }
   ],
   "source": [
    "for epoch in range(1, args.epochs + 1):\n",
    "    train(args, model, device, train_loader, optimizer, epoch, start_time = time.time())\n",
    "    f1 = get_mean_F1(model, validation_loader)\n",
    "    print('after epoch {} got f1 score of {}'.format(epoch , f1))\n",
    "    if f1 > info['highest F1']:\n",
    "        info['highest F1'] = np.copy(f1)\n",
    "        info['saved epoch'] = epoch \n",
    "        test(args, model, device, test_loader, epoch, trainDataset, testDataset, path_submission)\n",
    "        torch.save(model, path_model)\n",
    "        print('currently best model --> saved')\n",
    "        \n",
    "print(info)"
   ]
  },
  {
   "cell_type": "markdown",
   "metadata": {},
   "source": [
    "### Load Model"
   ]
  },
  {
   "cell_type": "code",
   "execution_count": null,
   "metadata": {
    "ExecuteTime": {
     "start_time": "2019-08-09T07:44:09.127Z"
    },
    "deletable": false,
    "editable": false,
    "run_control": {
     "frozen": true
    }
   },
   "outputs": [],
   "source": [
    "if load_model:\n",
    "    model = torch.load(path_model)"
   ]
  },
  {
   "cell_type": "code",
   "execution_count": null,
   "metadata": {
    "deletable": false,
    "editable": false,
    "run_control": {
     "frozen": true
    }
   },
   "outputs": [],
   "source": [
    "# load indices\n",
    "with open(path_submission + \"indices.txt\", \"rb\") as fp:\n",
    "    indices = pickle.load(fp)"
   ]
  },
  {
   "cell_type": "code",
   "execution_count": null,
   "metadata": {
    "ExecuteTime": {
     "start_time": "2019-08-09T07:44:09.139Z"
    },
    "deletable": false,
    "editable": false,
    "run_control": {
     "frozen": true
    }
   },
   "outputs": [],
   "source": [
    "get_mean_F1(model, validation_loader)"
   ]
  },
  {
   "cell_type": "code",
   "execution_count": null,
   "metadata": {
    "ExecuteTime": {
     "start_time": "2019-08-09T07:44:09.143Z"
    },
    "deletable": false,
    "editable": false,
    "run_control": {
     "frozen": true
    }
   },
   "outputs": [],
   "source": [
    "epoch=10\n",
    "test(args, model, device, test_loader, epoch, trainDataset, testDataset, path_submission)"
   ]
  },
  {
   "cell_type": "code",
   "execution_count": null,
   "metadata": {},
   "outputs": [],
   "source": []
  }
 ],
 "metadata": {
  "kernelspec": {
   "display_name": "Python 3",
   "language": "python",
   "name": "python3"
  },
  "language_info": {
   "codemirror_mode": {
    "name": "ipython",
    "version": 3
   },
   "file_extension": ".py",
   "mimetype": "text/x-python",
   "name": "python",
   "nbconvert_exporter": "python",
   "pygments_lexer": "ipython3",
   "version": "3.7.3"
  },
  "toc": {
   "base_numbering": 1,
   "nav_menu": {},
   "number_sections": true,
   "sideBar": true,
   "skip_h1_title": false,
   "title_cell": "Table of Contents",
   "title_sidebar": "Contents",
   "toc_cell": false,
   "toc_position": {},
   "toc_section_display": true,
   "toc_window_display": false
  },
  "varInspector": {
   "cols": {
    "lenName": 16,
    "lenType": 16,
    "lenVar": 40
   },
   "kernels_config": {
    "python": {
     "delete_cmd_postfix": "",
     "delete_cmd_prefix": "del ",
     "library": "var_list.py",
     "varRefreshCmd": "print(var_dic_list())"
    },
    "r": {
     "delete_cmd_postfix": ") ",
     "delete_cmd_prefix": "rm(",
     "library": "var_list.r",
     "varRefreshCmd": "cat(var_dic_list()) "
    }
   },
   "types_to_exclude": [
    "module",
    "function",
    "builtin_function_or_method",
    "instance",
    "_Feature"
   ],
   "window_display": false
  }
 },
 "nbformat": 4,
 "nbformat_minor": 2
}
